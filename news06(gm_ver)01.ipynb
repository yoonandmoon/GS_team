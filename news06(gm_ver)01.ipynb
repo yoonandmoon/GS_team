{
  "nbformat": 4,
  "nbformat_minor": 0,
  "metadata": {
    "colab": {
      "provenance": [],
      "authorship_tag": "ABX9TyOtym3qJ3ckf86W8LL2PqJy",
      "include_colab_link": true
    },
    "kernelspec": {
      "name": "python3",
      "display_name": "Python 3"
    },
    "language_info": {
      "name": "python"
    }
  },
  "cells": [
    {
      "cell_type": "markdown",
      "metadata": {
        "id": "view-in-github",
        "colab_type": "text"
      },
      "source": [
        "<a href=\"https://colab.research.google.com/github/yoonandmoon/GS_team/blob/cleansing-jw/news06(gm_ver)01.ipynb\" target=\"_parent\"><img src=\"https://colab.research.google.com/assets/colab-badge.svg\" alt=\"Open In Colab\"/></a>"
      ]
    },
    {
      "cell_type": "code",
      "source": [
        "import warnings\n",
        "import pandas as pd\n",
        "warnings.filterwarnings(action = 'ignore')"
      ],
      "metadata": {
        "id": "1TAzfOVB1VcZ"
      },
      "execution_count": 23,
      "outputs": []
    },
    {
      "cell_type": "code",
      "source": [
        "# df2에 필요정보만 저장\n",
        "# 콘텐트 \\n, \\t,\\r 제거\n",
        "# 데이트 날짜만 분리\n",
        "df = pd.read_csv(\"news_data06.csv\")\n",
        "\n",
        "df2 = df[['title','content','date']]\n",
        "df2['content'] = df['content'].str.replace('\\n',' ').replace('\\t',' ').replace('\\r', ' ')\n",
        "df2['date'] = df['date'].str.split(' ').str[0]"
      ],
      "metadata": {
        "id": "3Go_pnrV12AF"
      },
      "execution_count": 33,
      "outputs": []
    },
    {
      "cell_type": "code",
      "source": [
        "# 토큰화\n",
        "from konlpy.tag import Komoran\n",
        "import re\n",
        "tokenizer = Komoran()\n",
        "\n",
        "df2['morphsC'] = None\n",
        "df2['morphsT'] = None\n",
        "\n",
        "for i, row in df.iterrows():\n",
        "    df2['morphsC'][i] = ' '.join(tokenizer.morphs(row['content']))\n",
        "    df2['morphsT'][i] = ' '.join(tokenizer.morphs(row['title']))\n",
        "\n",
        "# 한글 문자만 남기고 나머지 문자 제거\n",
        "df2['morphsC'] = df2['morphsC'].apply(lambda x: re.sub('[^가-힣ㄱ-ㅎㅏ-ㅣ\\\\s]', '', x))\n",
        "df2['morphsT'] = df2['morphsT'].apply(lambda x: re.sub('[^가-힣ㄱ-ㅎㅏ-ㅣ\\\\s]', '', x))"
      ],
      "metadata": {
        "id": "OiiRjbeL3CRX"
      },
      "execution_count": 41,
      "outputs": []
    },
    {
      "cell_type": "code",
      "source": [
        "dfTEst = df2[['title', 'morphsT']]\n",
        "dfTEst"
      ],
      "metadata": {
        "id": "XTAsijrm4bD_"
      },
      "execution_count": null,
      "outputs": []
    },
    {
      "cell_type": "code",
      "source": [
        "import spacy\n",
        "\n",
        "# spaCy의 NLP 모델을 로드합니다.\n",
        "nlp = spacy.load('en_core_web_sm')"
      ],
      "metadata": {
        "id": "dE-c3x3S4bkc"
      },
      "execution_count": 37,
      "outputs": []
    },
    {
      "cell_type": "code",
      "source": [
        "def extract_words(text):\n",
        "    # 텍스트를 spaCy의 NLP 모델을 사용하여 토큰화합니다.\n",
        "    doc = nlp(text)\n",
        "\n",
        "    # 길이가 2글자 이상이고, 명사(Noun), 동사(Verb), 형용사(Adjective)인 단어를 선택합니다.\n",
        "    selected_words = [token.text for token in doc if len(token.text) >= 2 and token.pos_ in ['NOUN', 'VERB', 'ADJ']]\n",
        "\n",
        "    # 선택된 단어를 공백으로 구분된 문자열로 결합합니다.\n",
        "    return ' '.join(selected_words)"
      ],
      "metadata": {
        "id": "lITMY_GH5WWq"
      },
      "execution_count": 31,
      "outputs": []
    },
    {
      "cell_type": "code",
      "source": [
        "df2['morphsC'] = df2['morphsC'].apply(extract_words)\n",
        "df2['morphsT'] = df2['morphsT'].apply(extract_words)\n",
        "\n",
        "df3 = df2[['date','morphsT', 'morphsC']]"
      ],
      "metadata": {
        "id": "mjmiruTe5b7B"
      },
      "execution_count": 38,
      "outputs": []
    },
    {
      "cell_type": "code",
      "source": [
        "df3"
      ],
      "metadata": {
        "id": "1DO1B-GT5gVO"
      },
      "execution_count": null,
      "outputs": []
    },
    {
      "cell_type": "code",
      "source": [],
      "metadata": {
        "id": "BMYai56V99Aj"
      },
      "execution_count": null,
      "outputs": []
    }
  ]
}