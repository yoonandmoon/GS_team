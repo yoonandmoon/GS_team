{
  "nbformat": 4,
  "nbformat_minor": 0,
  "metadata": {
    "colab": {
      "provenance": [],
      "gpuType": "T4",
      "authorship_tag": "ABX9TyNKAO7yZktU5+meVoMEv+G4",
      "include_colab_link": true
    },
    "kernelspec": {
      "name": "python3",
      "display_name": "Python 3"
    },
    "language_info": {
      "name": "python"
    },
    "accelerator": "GPU"
  },
  "cells": [
    {
      "cell_type": "markdown",
      "metadata": {
        "id": "view-in-github",
        "colab_type": "text"
      },
      "source": [
        "<a href=\"https://colab.research.google.com/github/yoonandmoon/GS_team/blob/main/231017_%EB%8D%B0%EC%9D%B4%ED%84%B0_%EC%A0%84%EC%B2%98%EB%A6%AC.ipynb\" target=\"_parent\"><img src=\"https://colab.research.google.com/assets/colab-badge.svg\" alt=\"Open In Colab\"/></a>"
      ]
    },
    {
      "cell_type": "markdown",
      "source": [
        "# 데이터수집"
      ],
      "metadata": {
        "id": "9_G1k3urYdnh"
      }
    },
    {
      "cell_type": "code",
      "execution_count": null,
      "metadata": {
        "colab": {
          "base_uri": "https://localhost:8080/",
          "height": 148
        },
        "id": "--aFzGt-PL_i",
        "outputId": "eddeacc6-b6e5-4cd1-d9bc-abefa098a62d"
      },
      "outputs": [
        {
          "output_type": "execute_result",
          "data": {
            "text/plain": [
              "'Italian Renaissance: Vitruvian Man by Leonardo da VinciIt is the present-day darling of the tech world. The current renaissance of Artificial Intelligence (AI) with its sister discipline Machine Learning (ML) has led every IT firm worth its salt to engineer some form of AI onto its platform, into its toolsets and throughout its software applications.IBM CEO Ginni Rometty has already proclaimed that AI will change 100 percent of jobs over the next decade.And yes, she does mean everybody\\'s job from yours to mine and onward to the role of grain farmers in Egypt, pastry chefs in Paris and dog walkers in Oregon i.e. every job. We will now be able to help direct all workers’ actions and behavior with a new degree of intelligence that comes from predictive analytics, all stemming from the AI engines we will now increasingly depend upon.When did it all go so right?But AI used to be a fanciful notion mostly confined science fiction, so when did it all go right?In recent years we’ve had some big changes in technology. Aside from the proliferation of mobile devices that has impacted us all, memory has become a lot cheaper, data storage has become a lot easier (in cloud, and elsewhere) and computer processing speeds have continued to outstrip previous records. With the power of quantum computing around the corner, is the AI renaissance simply a result of the coming together of these ‘tech ingredient’ forces?“It isn\\'t just massive compute power. There are important algorithmic changes that have been developed. Plus, it is much easier to gain access to more data in an Internet-connected world,” said Ted Dunning, CTO at data platform, AI and analytics company MapR. “All three aspects (compute, algorithms, data) combine to make todays machine learning possible. Also and quite frankly, a lot of applications only need data availability... we could have implemented them 25 years ago pretty easily if the data had been available and the output of the model could have been integrated back into the business flow.”So, in many ways, Dunning really heralds the modern era of the web as the key facilitator for the new age of AI. Information has become not just ubiquitous; it has also become easier to access and more accurately classified into structured, semi-structured and unstructured data in its rawest form.Tuning AI towards lifeDunning and MapR point out that the new generation of AI & ML is now rediscovering ideas, some of which were first thought of some 50 years ago. The difference today is, each time keep adding a bit of something new. A bit of computing power here, better data there, new ideas for organizing and optimizing a network and after a while we get to build new AI systems that really do useful work. So how should we continue to engineer these new systems?\"A key to success [in the new era of AI] is to focus on the design of the human-AI interactions as much as in the AI itself,\" said Jesus Mantas, general manager and managing partner in IBM Global Business Services. “Many AI programs focus primarily on machine learning algorithms and training datasets, but fail to address the most important success factors: the design of human-machine relationships, new AI-powered workflows… and perfecting the choreography of processes, technology and humans. Those programs rarely scale or achieve benefits. The companies succeeding to scale AI and its benefits demonstrate that skilled, purposeful design of workflows and user interactions lead to faster adoption and business benefits.\"CEO of AI code analytics platform company Gamma is Vishal Rai. In general terms, Rai agrees that the AI renaissance has been driven by tectonic shifts in three areas in the computing world: computing power, swathes of data (and its accessibility)… but also by human ingenuity.He points to new developments coming out of both Silicon Valley but further afield also (China being a prime example, Huawei builds its smartphone chipsets around its Kirin AI-enriched microprocessor) and says that this is all helping to create future industries such as autonomous driving and health care diagnostics.Real world application of AI applicationsSo in what ways are the new real world applications of AI manifesting themselves and starting to impact the services we use below the surface?Cloud computing software intelligence and Application Performance Management (APM) specialist Dynatrace has now extended its AI-powered platform to include IBM Z mainframe support for CICS (a mainframe programming language), IMS (a mainframe database) and middleware. To put that in less technical terms, Dynatrace can be used to monitor software that sits on mainframes to make sure it stays healthy.Why bother? Because the mainframe was never built to be hammered by devices with massively busy data streams like mobile banking apps, games and other online niceties. This means we need AI to understand what impact the mainframe is having on the newer systems we build.“While enterprises are moving applications to modern cloud stacks for agility and competitive advantage, these applications often still depend on critical transactions and ‘crown jewels’ customer data residing on IBM Z mainframes. This puts pressure on these resources to perform tasks that were not envisioned when the mainframes were launched,” said Steve Tack, SVP of products at Dynatrace. “Because Dynatrace provides end-to-end hybrid visibility [through our Davis AI engine], customers can optimize new services, catch performance degradations before user impact, and understand exactly who has been impacted by an incident. This enables customers to confidently innovate applications that leverage data from mainframes to increase revenue, build brand loyalty, and create competitive advantage.”AI as a work of artMany would argue that the path to contemporary AI has been a long slog, but the systems we build now keep finding clever shortcuts… so the momentum for the AI renaissance is actually building cumulatively.Some argue that AI never went away and that the current popularization of AI and its ensuing discussion is just a natural progression of a technology that simply needed to come through a period of adolescence. Either way, AI is in your smartphone and in your cloud computing services, so renaissance or not, let’s hope it continues to become a work of art.Renaissance art'"
            ],
            "application/vnd.google.colaboratory.intrinsic+json": {
              "type": "string"
            }
          },
          "metadata": {},
          "execution_count": 7
        }
      ],
      "source": [
        "import requests\n",
        "from bs4 import BeautifulSoup\n",
        "URL='https://www.forbes.com/sites/adrianbridgwater/2019/04/15/what-drove-the-ai-renaissance/?ss=ai-big-data#45dd5dd61f25'\n",
        "response=requests.get(URL)\n",
        "soup=BeautifulSoup(response.text,\"html.parser\")\n",
        "\n",
        "div = soup.find('div', class_ = 'article-body')\n",
        "p_tag = div.find_all('p')\n",
        "content = ''\n",
        "for i in p_tag:\n",
        "  content +=i.text\n",
        "content\n"
      ]
    },
    {
      "cell_type": "markdown",
      "source": [
        "#영문토큰화\n",
        "word_tokenizer(): 마침표와 구두점(온점(.),컴마(,),물음표(?),세미콜론(;),느낌표(!) 등과 같은 기호)으로 구분하여 토큰화"
      ],
      "metadata": {
        "id": "81xJtMiMYgpg"
      }
    },
    {
      "cell_type": "code",
      "source": [
        "#word_tokenize\n",
        "import nltk\n",
        "# nltk punkt tokenizer download\n",
        "nltk.download('punkt')\n",
        "from nltk.tokenize import word_tokenize\n",
        "token1 = word_tokenize(content)\n",
        "print(token1)"
      ],
      "metadata": {
        "colab": {
          "base_uri": "https://localhost:8080/"
        },
        "id": "rKQlqGbDSBXG",
        "outputId": "e0e217b6-0b75-4a19-ecd8-dc71a8c2552b"
      },
      "execution_count": null,
      "outputs": [
        {
          "output_type": "stream",
          "name": "stderr",
          "text": [
            "[nltk_data] Downloading package punkt to /root/nltk_data...\n",
            "[nltk_data]   Unzipping tokenizers/punkt.zip.\n"
          ]
        },
        {
          "output_type": "stream",
          "name": "stdout",
          "text": [
            "['Italian', 'Renaissance', ':', 'Vitruvian', 'Man', 'by', 'Leonardo', 'da', 'VinciIt', 'is', 'the', 'present-day', 'darling', 'of', 'the', 'tech', 'world', '.', 'The', 'current', 'renaissance', 'of', 'Artificial', 'Intelligence', '(', 'AI', ')', 'with', 'its', 'sister', 'discipline', 'Machine', 'Learning', '(', 'ML', ')', 'has', 'led', 'every', 'IT', 'firm', 'worth', 'its', 'salt', 'to', 'engineer', 'some', 'form', 'of', 'AI', 'onto', 'its', 'platform', ',', 'into', 'its', 'toolsets', 'and', 'throughout', 'its', 'software', 'applications.IBM', 'CEO', 'Ginni', 'Rometty', 'has', 'already', 'proclaimed', 'that', 'AI', 'will', 'change', '100', 'percent', 'of', 'jobs', 'over', 'the', 'next', 'decade.And', 'yes', ',', 'she', 'does', 'mean', 'everybody', \"'s\", 'job', 'from', 'yours', 'to', 'mine', 'and', 'onward', 'to', 'the', 'role', 'of', 'grain', 'farmers', 'in', 'Egypt', ',', 'pastry', 'chefs', 'in', 'Paris', 'and', 'dog', 'walkers', 'in', 'Oregon', 'i.e', '.', 'every', 'job', '.', 'We', 'will', 'now', 'be', 'able', 'to', 'help', 'direct', 'all', 'workers', '’', 'actions', 'and', 'behavior', 'with', 'a', 'new', 'degree', 'of', 'intelligence', 'that', 'comes', 'from', 'predictive', 'analytics', ',', 'all', 'stemming', 'from', 'the', 'AI', 'engines', 'we', 'will', 'now', 'increasingly', 'depend', 'upon.When', 'did', 'it', 'all', 'go', 'so', 'right', '?', 'But', 'AI', 'used', 'to', 'be', 'a', 'fanciful', 'notion', 'mostly', 'confined', 'science', 'fiction', ',', 'so', 'when', 'did', 'it', 'all', 'go', 'right', '?', 'In', 'recent', 'years', 'we', '’', 've', 'had', 'some', 'big', 'changes', 'in', 'technology', '.', 'Aside', 'from', 'the', 'proliferation', 'of', 'mobile', 'devices', 'that', 'has', 'impacted', 'us', 'all', ',', 'memory', 'has', 'become', 'a', 'lot', 'cheaper', ',', 'data', 'storage', 'has', 'become', 'a', 'lot', 'easier', '(', 'in', 'cloud', ',', 'and', 'elsewhere', ')', 'and', 'computer', 'processing', 'speeds', 'have', 'continued', 'to', 'outstrip', 'previous', 'records', '.', 'With', 'the', 'power', 'of', 'quantum', 'computing', 'around', 'the', 'corner', ',', 'is', 'the', 'AI', 'renaissance', 'simply', 'a', 'result', 'of', 'the', 'coming', 'together', 'of', 'these', '‘', 'tech', 'ingredient', '’', 'forces', '?', '“', 'It', 'is', \"n't\", 'just', 'massive', 'compute', 'power', '.', 'There', 'are', 'important', 'algorithmic', 'changes', 'that', 'have', 'been', 'developed', '.', 'Plus', ',', 'it', 'is', 'much', 'easier', 'to', 'gain', 'access', 'to', 'more', 'data', 'in', 'an', 'Internet-connected', 'world', ',', '”', 'said', 'Ted', 'Dunning', ',', 'CTO', 'at', 'data', 'platform', ',', 'AI', 'and', 'analytics', 'company', 'MapR', '.', '“', 'All', 'three', 'aspects', '(', 'compute', ',', 'algorithms', ',', 'data', ')', 'combine', 'to', 'make', 'todays', 'machine', 'learning', 'possible', '.', 'Also', 'and', 'quite', 'frankly', ',', 'a', 'lot', 'of', 'applications', 'only', 'need', 'data', 'availability', '...', 'we', 'could', 'have', 'implemented', 'them', '25', 'years', 'ago', 'pretty', 'easily', 'if', 'the', 'data', 'had', 'been', 'available', 'and', 'the', 'output', 'of', 'the', 'model', 'could', 'have', 'been', 'integrated', 'back', 'into', 'the', 'business', 'flow.', '”', 'So', ',', 'in', 'many', 'ways', ',', 'Dunning', 'really', 'heralds', 'the', 'modern', 'era', 'of', 'the', 'web', 'as', 'the', 'key', 'facilitator', 'for', 'the', 'new', 'age', 'of', 'AI', '.', 'Information', 'has', 'become', 'not', 'just', 'ubiquitous', ';', 'it', 'has', 'also', 'become', 'easier', 'to', 'access', 'and', 'more', 'accurately', 'classified', 'into', 'structured', ',', 'semi-structured', 'and', 'unstructured', 'data', 'in', 'its', 'rawest', 'form.Tuning', 'AI', 'towards', 'lifeDunning', 'and', 'MapR', 'point', 'out', 'that', 'the', 'new', 'generation', 'of', 'AI', '&', 'ML', 'is', 'now', 'rediscovering', 'ideas', ',', 'some', 'of', 'which', 'were', 'first', 'thought', 'of', 'some', '50', 'years', 'ago', '.', 'The', 'difference', 'today', 'is', ',', 'each', 'time', 'keep', 'adding', 'a', 'bit', 'of', 'something', 'new', '.', 'A', 'bit', 'of', 'computing', 'power', 'here', ',', 'better', 'data', 'there', ',', 'new', 'ideas', 'for', 'organizing', 'and', 'optimizing', 'a', 'network', 'and', 'after', 'a', 'while', 'we', 'get', 'to', 'build', 'new', 'AI', 'systems', 'that', 'really', 'do', 'useful', 'work', '.', 'So', 'how', 'should', 'we', 'continue', 'to', 'engineer', 'these', 'new', 'systems', '?', '``', 'A', 'key', 'to', 'success', '[', 'in', 'the', 'new', 'era', 'of', 'AI', ']', 'is', 'to', 'focus', 'on', 'the', 'design', 'of', 'the', 'human-AI', 'interactions', 'as', 'much', 'as', 'in', 'the', 'AI', 'itself', ',', \"''\", 'said', 'Jesus', 'Mantas', ',', 'general', 'manager', 'and', 'managing', 'partner', 'in', 'IBM', 'Global', 'Business', 'Services', '.', '“', 'Many', 'AI', 'programs', 'focus', 'primarily', 'on', 'machine', 'learning', 'algorithms', 'and', 'training', 'datasets', ',', 'but', 'fail', 'to', 'address', 'the', 'most', 'important', 'success', 'factors', ':', 'the', 'design', 'of', 'human-machine', 'relationships', ',', 'new', 'AI-powered', 'workflows…', 'and', 'perfecting', 'the', 'choreography', 'of', 'processes', ',', 'technology', 'and', 'humans', '.', 'Those', 'programs', 'rarely', 'scale', 'or', 'achieve', 'benefits', '.', 'The', 'companies', 'succeeding', 'to', 'scale', 'AI', 'and', 'its', 'benefits', 'demonstrate', 'that', 'skilled', ',', 'purposeful', 'design', 'of', 'workflows', 'and', 'user', 'interactions', 'lead', 'to', 'faster', 'adoption', 'and', 'business', 'benefits', '.', '``', 'CEO', 'of', 'AI', 'code', 'analytics', 'platform', 'company', 'Gamma', 'is', 'Vishal', 'Rai', '.', 'In', 'general', 'terms', ',', 'Rai', 'agrees', 'that', 'the', 'AI', 'renaissance', 'has', 'been', 'driven', 'by', 'tectonic', 'shifts', 'in', 'three', 'areas', 'in', 'the', 'computing', 'world', ':', 'computing', 'power', ',', 'swathes', 'of', 'data', '(', 'and', 'its', 'accessibility', ')', '…', 'but', 'also', 'by', 'human', 'ingenuity.He', 'points', 'to', 'new', 'developments', 'coming', 'out', 'of', 'both', 'Silicon', 'Valley', 'but', 'further', 'afield', 'also', '(', 'China', 'being', 'a', 'prime', 'example', ',', 'Huawei', 'builds', 'its', 'smartphone', 'chipsets', 'around', 'its', 'Kirin', 'AI-enriched', 'microprocessor', ')', 'and', 'says', 'that', 'this', 'is', 'all', 'helping', 'to', 'create', 'future', 'industries', 'such', 'as', 'autonomous', 'driving', 'and', 'health', 'care', 'diagnostics.Real', 'world', 'application', 'of', 'AI', 'applicationsSo', 'in', 'what', 'ways', 'are', 'the', 'new', 'real', 'world', 'applications', 'of', 'AI', 'manifesting', 'themselves', 'and', 'starting', 'to', 'impact', 'the', 'services', 'we', 'use', 'below', 'the', 'surface', '?', 'Cloud', 'computing', 'software', 'intelligence', 'and', 'Application', 'Performance', 'Management', '(', 'APM', ')', 'specialist', 'Dynatrace', 'has', 'now', 'extended', 'its', 'AI-powered', 'platform', 'to', 'include', 'IBM', 'Z', 'mainframe', 'support', 'for', 'CICS', '(', 'a', 'mainframe', 'programming', 'language', ')', ',', 'IMS', '(', 'a', 'mainframe', 'database', ')', 'and', 'middleware', '.', 'To', 'put', 'that', 'in', 'less', 'technical', 'terms', ',', 'Dynatrace', 'can', 'be', 'used', 'to', 'monitor', 'software', 'that', 'sits', 'on', 'mainframes', 'to', 'make', 'sure', 'it', 'stays', 'healthy.Why', 'bother', '?', 'Because', 'the', 'mainframe', 'was', 'never', 'built', 'to', 'be', 'hammered', 'by', 'devices', 'with', 'massively', 'busy', 'data', 'streams', 'like', 'mobile', 'banking', 'apps', ',', 'games', 'and', 'other', 'online', 'niceties', '.', 'This', 'means', 'we', 'need', 'AI', 'to', 'understand', 'what', 'impact', 'the', 'mainframe', 'is', 'having', 'on', 'the', 'newer', 'systems', 'we', 'build.', '“', 'While', 'enterprises', 'are', 'moving', 'applications', 'to', 'modern', 'cloud', 'stacks', 'for', 'agility', 'and', 'competitive', 'advantage', ',', 'these', 'applications', 'often', 'still', 'depend', 'on', 'critical', 'transactions', 'and', '‘', 'crown', 'jewels', '’', 'customer', 'data', 'residing', 'on', 'IBM', 'Z', 'mainframes', '.', 'This', 'puts', 'pressure', 'on', 'these', 'resources', 'to', 'perform', 'tasks', 'that', 'were', 'not', 'envisioned', 'when', 'the', 'mainframes', 'were', 'launched', ',', '”', 'said', 'Steve', 'Tack', ',', 'SVP', 'of', 'products', 'at', 'Dynatrace', '.', '“', 'Because', 'Dynatrace', 'provides', 'end-to-end', 'hybrid', 'visibility', '[', 'through', 'our', 'Davis', 'AI', 'engine', ']', ',', 'customers', 'can', 'optimize', 'new', 'services', ',', 'catch', 'performance', 'degradations', 'before', 'user', 'impact', ',', 'and', 'understand', 'exactly', 'who', 'has', 'been', 'impacted', 'by', 'an', 'incident', '.', 'This', 'enables', 'customers', 'to', 'confidently', 'innovate', 'applications', 'that', 'leverage', 'data', 'from', 'mainframes', 'to', 'increase', 'revenue', ',', 'build', 'brand', 'loyalty', ',', 'and', 'create', 'competitive', 'advantage.', '”', 'AI', 'as', 'a', 'work', 'of', 'artMany', 'would', 'argue', 'that', 'the', 'path', 'to', 'contemporary', 'AI', 'has', 'been', 'a', 'long', 'slog', ',', 'but', 'the', 'systems', 'we', 'build', 'now', 'keep', 'finding', 'clever', 'shortcuts…', 'so', 'the', 'momentum', 'for', 'the', 'AI', 'renaissance', 'is', 'actually', 'building', 'cumulatively.Some', 'argue', 'that', 'AI', 'never', 'went', 'away', 'and', 'that', 'the', 'current', 'popularization', 'of', 'AI', 'and', 'its', 'ensuing', 'discussion', 'is', 'just', 'a', 'natural', 'progression', 'of', 'a', 'technology', 'that', 'simply', 'needed', 'to', 'come', 'through', 'a', 'period', 'of', 'adolescence', '.', 'Either', 'way', ',', 'AI', 'is', 'in', 'your', 'smartphone', 'and', 'in', 'your', 'cloud', 'computing', 'services', ',', 'so', 'renaissance', 'or', 'not', ',', 'let', '’', 's', 'hope', 'it', 'continues', 'to', 'become', 'a', 'work', 'of', 'art.Renaissance', 'art']\n"
          ]
        }
      ]
    },
    {
      "cell_type": "code",
      "source": [
        "# WordPunctTokenizer():알파벳이 아닌 문자를 구분하여 토큰화\n",
        "import nltk\n",
        "from nltk.tokenize import WordPunctTokenizer\n",
        "token2 =  WordPunctTokenizer().tokenize(content)\n",
        "print(token2)"
      ],
      "metadata": {
        "colab": {
          "base_uri": "https://localhost:8080/"
        },
        "id": "pzMEyxXhZD9g",
        "outputId": "0c9dcc9a-8a5d-437a-d6e1-9e31d6820297"
      },
      "execution_count": null,
      "outputs": [
        {
          "output_type": "stream",
          "name": "stdout",
          "text": [
            "['Italian', 'Renaissance', ':', 'Vitruvian', 'Man', 'by', 'Leonardo', 'da', 'VinciIt', 'is', 'the', 'present', '-', 'day', 'darling', 'of', 'the', 'tech', 'world', '.', 'The', 'current', 'renaissance', 'of', 'Artificial', 'Intelligence', '(', 'AI', ')', 'with', 'its', 'sister', 'discipline', 'Machine', 'Learning', '(', 'ML', ')', 'has', 'led', 'every', 'IT', 'firm', 'worth', 'its', 'salt', 'to', 'engineer', 'some', 'form', 'of', 'AI', 'onto', 'its', 'platform', ',', 'into', 'its', 'toolsets', 'and', 'throughout', 'its', 'software', 'applications', '.', 'IBM', 'CEO', 'Ginni', 'Rometty', 'has', 'already', 'proclaimed', 'that', 'AI', 'will', 'change', '100', 'percent', 'of', 'jobs', 'over', 'the', 'next', 'decade', '.', 'And', 'yes', ',', 'she', 'does', 'mean', 'everybody', \"'\", 's', 'job', 'from', 'yours', 'to', 'mine', 'and', 'onward', 'to', 'the', 'role', 'of', 'grain', 'farmers', 'in', 'Egypt', ',', 'pastry', 'chefs', 'in', 'Paris', 'and', 'dog', 'walkers', 'in', 'Oregon', 'i', '.', 'e', '.', 'every', 'job', '.', 'We', 'will', 'now', 'be', 'able', 'to', 'help', 'direct', 'all', 'workers', '’', 'actions', 'and', 'behavior', 'with', 'a', 'new', 'degree', 'of', 'intelligence', 'that', 'comes', 'from', 'predictive', 'analytics', ',', 'all', 'stemming', 'from', 'the', 'AI', 'engines', 'we', 'will', 'now', 'increasingly', 'depend', 'upon', '.', 'When', 'did', 'it', 'all', 'go', 'so', 'right', '?', 'But', 'AI', 'used', 'to', 'be', 'a', 'fanciful', 'notion', 'mostly', 'confined', 'science', 'fiction', ',', 'so', 'when', 'did', 'it', 'all', 'go', 'right', '?', 'In', 'recent', 'years', 'we', '’', 've', 'had', 'some', 'big', 'changes', 'in', 'technology', '.', 'Aside', 'from', 'the', 'proliferation', 'of', 'mobile', 'devices', 'that', 'has', 'impacted', 'us', 'all', ',', 'memory', 'has', 'become', 'a', 'lot', 'cheaper', ',', 'data', 'storage', 'has', 'become', 'a', 'lot', 'easier', '(', 'in', 'cloud', ',', 'and', 'elsewhere', ')', 'and', 'computer', 'processing', 'speeds', 'have', 'continued', 'to', 'outstrip', 'previous', 'records', '.', 'With', 'the', 'power', 'of', 'quantum', 'computing', 'around', 'the', 'corner', ',', 'is', 'the', 'AI', 'renaissance', 'simply', 'a', 'result', 'of', 'the', 'coming', 'together', 'of', 'these', '‘', 'tech', 'ingredient', '’', 'forces', '?“', 'It', 'isn', \"'\", 't', 'just', 'massive', 'compute', 'power', '.', 'There', 'are', 'important', 'algorithmic', 'changes', 'that', 'have', 'been', 'developed', '.', 'Plus', ',', 'it', 'is', 'much', 'easier', 'to', 'gain', 'access', 'to', 'more', 'data', 'in', 'an', 'Internet', '-', 'connected', 'world', ',”', 'said', 'Ted', 'Dunning', ',', 'CTO', 'at', 'data', 'platform', ',', 'AI', 'and', 'analytics', 'company', 'MapR', '.', '“', 'All', 'three', 'aspects', '(', 'compute', ',', 'algorithms', ',', 'data', ')', 'combine', 'to', 'make', 'todays', 'machine', 'learning', 'possible', '.', 'Also', 'and', 'quite', 'frankly', ',', 'a', 'lot', 'of', 'applications', 'only', 'need', 'data', 'availability', '...', 'we', 'could', 'have', 'implemented', 'them', '25', 'years', 'ago', 'pretty', 'easily', 'if', 'the', 'data', 'had', 'been', 'available', 'and', 'the', 'output', 'of', 'the', 'model', 'could', 'have', 'been', 'integrated', 'back', 'into', 'the', 'business', 'flow', '.”', 'So', ',', 'in', 'many', 'ways', ',', 'Dunning', 'really', 'heralds', 'the', 'modern', 'era', 'of', 'the', 'web', 'as', 'the', 'key', 'facilitator', 'for', 'the', 'new', 'age', 'of', 'AI', '.', 'Information', 'has', 'become', 'not', 'just', 'ubiquitous', ';', 'it', 'has', 'also', 'become', 'easier', 'to', 'access', 'and', 'more', 'accurately', 'classified', 'into', 'structured', ',', 'semi', '-', 'structured', 'and', 'unstructured', 'data', 'in', 'its', 'rawest', 'form', '.', 'Tuning', 'AI', 'towards', 'lifeDunning', 'and', 'MapR', 'point', 'out', 'that', 'the', 'new', 'generation', 'of', 'AI', '&', 'ML', 'is', 'now', 'rediscovering', 'ideas', ',', 'some', 'of', 'which', 'were', 'first', 'thought', 'of', 'some', '50', 'years', 'ago', '.', 'The', 'difference', 'today', 'is', ',', 'each', 'time', 'keep', 'adding', 'a', 'bit', 'of', 'something', 'new', '.', 'A', 'bit', 'of', 'computing', 'power', 'here', ',', 'better', 'data', 'there', ',', 'new', 'ideas', 'for', 'organizing', 'and', 'optimizing', 'a', 'network', 'and', 'after', 'a', 'while', 'we', 'get', 'to', 'build', 'new', 'AI', 'systems', 'that', 'really', 'do', 'useful', 'work', '.', 'So', 'how', 'should', 'we', 'continue', 'to', 'engineer', 'these', 'new', 'systems', '?\"', 'A', 'key', 'to', 'success', '[', 'in', 'the', 'new', 'era', 'of', 'AI', ']', 'is', 'to', 'focus', 'on', 'the', 'design', 'of', 'the', 'human', '-', 'AI', 'interactions', 'as', 'much', 'as', 'in', 'the', 'AI', 'itself', ',\"', 'said', 'Jesus', 'Mantas', ',', 'general', 'manager', 'and', 'managing', 'partner', 'in', 'IBM', 'Global', 'Business', 'Services', '.', '“', 'Many', 'AI', 'programs', 'focus', 'primarily', 'on', 'machine', 'learning', 'algorithms', 'and', 'training', 'datasets', ',', 'but', 'fail', 'to', 'address', 'the', 'most', 'important', 'success', 'factors', ':', 'the', 'design', 'of', 'human', '-', 'machine', 'relationships', ',', 'new', 'AI', '-', 'powered', 'workflows', '…', 'and', 'perfecting', 'the', 'choreography', 'of', 'processes', ',', 'technology', 'and', 'humans', '.', 'Those', 'programs', 'rarely', 'scale', 'or', 'achieve', 'benefits', '.', 'The', 'companies', 'succeeding', 'to', 'scale', 'AI', 'and', 'its', 'benefits', 'demonstrate', 'that', 'skilled', ',', 'purposeful', 'design', 'of', 'workflows', 'and', 'user', 'interactions', 'lead', 'to', 'faster', 'adoption', 'and', 'business', 'benefits', '.\"', 'CEO', 'of', 'AI', 'code', 'analytics', 'platform', 'company', 'Gamma', 'is', 'Vishal', 'Rai', '.', 'In', 'general', 'terms', ',', 'Rai', 'agrees', 'that', 'the', 'AI', 'renaissance', 'has', 'been', 'driven', 'by', 'tectonic', 'shifts', 'in', 'three', 'areas', 'in', 'the', 'computing', 'world', ':', 'computing', 'power', ',', 'swathes', 'of', 'data', '(', 'and', 'its', 'accessibility', ')…', 'but', 'also', 'by', 'human', 'ingenuity', '.', 'He', 'points', 'to', 'new', 'developments', 'coming', 'out', 'of', 'both', 'Silicon', 'Valley', 'but', 'further', 'afield', 'also', '(', 'China', 'being', 'a', 'prime', 'example', ',', 'Huawei', 'builds', 'its', 'smartphone', 'chipsets', 'around', 'its', 'Kirin', 'AI', '-', 'enriched', 'microprocessor', ')', 'and', 'says', 'that', 'this', 'is', 'all', 'helping', 'to', 'create', 'future', 'industries', 'such', 'as', 'autonomous', 'driving', 'and', 'health', 'care', 'diagnostics', '.', 'Real', 'world', 'application', 'of', 'AI', 'applicationsSo', 'in', 'what', 'ways', 'are', 'the', 'new', 'real', 'world', 'applications', 'of', 'AI', 'manifesting', 'themselves', 'and', 'starting', 'to', 'impact', 'the', 'services', 'we', 'use', 'below', 'the', 'surface', '?', 'Cloud', 'computing', 'software', 'intelligence', 'and', 'Application', 'Performance', 'Management', '(', 'APM', ')', 'specialist', 'Dynatrace', 'has', 'now', 'extended', 'its', 'AI', '-', 'powered', 'platform', 'to', 'include', 'IBM', 'Z', 'mainframe', 'support', 'for', 'CICS', '(', 'a', 'mainframe', 'programming', 'language', '),', 'IMS', '(', 'a', 'mainframe', 'database', ')', 'and', 'middleware', '.', 'To', 'put', 'that', 'in', 'less', 'technical', 'terms', ',', 'Dynatrace', 'can', 'be', 'used', 'to', 'monitor', 'software', 'that', 'sits', 'on', 'mainframes', 'to', 'make', 'sure', 'it', 'stays', 'healthy', '.', 'Why', 'bother', '?', 'Because', 'the', 'mainframe', 'was', 'never', 'built', 'to', 'be', 'hammered', 'by', 'devices', 'with', 'massively', 'busy', 'data', 'streams', 'like', 'mobile', 'banking', 'apps', ',', 'games', 'and', 'other', 'online', 'niceties', '.', 'This', 'means', 'we', 'need', 'AI', 'to', 'understand', 'what', 'impact', 'the', 'mainframe', 'is', 'having', 'on', 'the', 'newer', 'systems', 'we', 'build', '.“', 'While', 'enterprises', 'are', 'moving', 'applications', 'to', 'modern', 'cloud', 'stacks', 'for', 'agility', 'and', 'competitive', 'advantage', ',', 'these', 'applications', 'often', 'still', 'depend', 'on', 'critical', 'transactions', 'and', '‘', 'crown', 'jewels', '’', 'customer', 'data', 'residing', 'on', 'IBM', 'Z', 'mainframes', '.', 'This', 'puts', 'pressure', 'on', 'these', 'resources', 'to', 'perform', 'tasks', 'that', 'were', 'not', 'envisioned', 'when', 'the', 'mainframes', 'were', 'launched', ',”', 'said', 'Steve', 'Tack', ',', 'SVP', 'of', 'products', 'at', 'Dynatrace', '.', '“', 'Because', 'Dynatrace', 'provides', 'end', '-', 'to', '-', 'end', 'hybrid', 'visibility', '[', 'through', 'our', 'Davis', 'AI', 'engine', '],', 'customers', 'can', 'optimize', 'new', 'services', ',', 'catch', 'performance', 'degradations', 'before', 'user', 'impact', ',', 'and', 'understand', 'exactly', 'who', 'has', 'been', 'impacted', 'by', 'an', 'incident', '.', 'This', 'enables', 'customers', 'to', 'confidently', 'innovate', 'applications', 'that', 'leverage', 'data', 'from', 'mainframes', 'to', 'increase', 'revenue', ',', 'build', 'brand', 'loyalty', ',', 'and', 'create', 'competitive', 'advantage', '.”', 'AI', 'as', 'a', 'work', 'of', 'artMany', 'would', 'argue', 'that', 'the', 'path', 'to', 'contemporary', 'AI', 'has', 'been', 'a', 'long', 'slog', ',', 'but', 'the', 'systems', 'we', 'build', 'now', 'keep', 'finding', 'clever', 'shortcuts', '…', 'so', 'the', 'momentum', 'for', 'the', 'AI', 'renaissance', 'is', 'actually', 'building', 'cumulatively', '.', 'Some', 'argue', 'that', 'AI', 'never', 'went', 'away', 'and', 'that', 'the', 'current', 'popularization', 'of', 'AI', 'and', 'its', 'ensuing', 'discussion', 'is', 'just', 'a', 'natural', 'progression', 'of', 'a', 'technology', 'that', 'simply', 'needed', 'to', 'come', 'through', 'a', 'period', 'of', 'adolescence', '.', 'Either', 'way', ',', 'AI', 'is', 'in', 'your', 'smartphone', 'and', 'in', 'your', 'cloud', 'computing', 'services', ',', 'so', 'renaissance', 'or', 'not', ',', 'let', '’', 's', 'hope', 'it', 'continues', 'to', 'become', 'a', 'work', 'of', 'art', '.', 'Renaissance', 'art']\n"
          ]
        }
      ]
    },
    {
      "cell_type": "code",
      "source": [
        "# TreebankWordTokenizer(): 정규표현식에 기반한 토큰화\n",
        "import nltk\n",
        "from nltk.tokenize import TreebankWordTokenizer\n",
        "token = TreebankWordTokenizer().tokenize(content)\n",
        "print(token[:20])"
      ],
      "metadata": {
        "colab": {
          "base_uri": "https://localhost:8080/"
        },
        "id": "clkYN6czUpKP",
        "outputId": "cbfbd9fe-760e-4ca4-bf69-da2c72b83f42"
      },
      "execution_count": null,
      "outputs": [
        {
          "output_type": "stream",
          "name": "stdout",
          "text": [
            "['Italian', 'Renaissance', ':', 'Vitruvian', 'Man', 'by', 'Leonardo', 'da', 'VinciIt', 'is', 'the', 'present-day', 'darling', 'of', 'the', 'tech', 'world.', 'The', 'current', 'renaissance']\n"
          ]
        }
      ]
    },
    {
      "cell_type": "markdown",
      "source": [
        "#영문 품사 부착\n",
        "분리한 토큰마다 품사를 부착한다."
      ],
      "metadata": {
        "id": "L33BfaGlZXLv"
      }
    },
    {
      "cell_type": "code",
      "source": [
        "from nltk import pos_tag\n",
        "nltk.download('averaged_perceptron_tagger')"
      ],
      "metadata": {
        "colab": {
          "base_uri": "https://localhost:8080/"
        },
        "id": "f2d6NhYSZjr9",
        "outputId": "a1aa788b-38fc-4e8a-aa0a-5da6cfec301c"
      },
      "execution_count": null,
      "outputs": [
        {
          "output_type": "stream",
          "name": "stderr",
          "text": [
            "[nltk_data] Downloading package averaged_perceptron_tagger to\n",
            "[nltk_data]     /root/nltk_data...\n",
            "[nltk_data]   Package averaged_perceptron_tagger is already up-to-\n",
            "[nltk_data]       date!\n"
          ]
        },
        {
          "output_type": "execute_result",
          "data": {
            "text/plain": [
              "True"
            ]
          },
          "metadata": {},
          "execution_count": 16
        }
      ]
    },
    {
      "cell_type": "code",
      "source": [
        "taggedToken = pos_tag(token1)\n",
        "print(taggedToken[:20])"
      ],
      "metadata": {
        "colab": {
          "base_uri": "https://localhost:8080/"
        },
        "id": "92CCeOAYZq4S",
        "outputId": "37b6e3e6-dec1-48cf-9e23-3b29f045e44e"
      },
      "execution_count": null,
      "outputs": [
        {
          "output_type": "stream",
          "name": "stdout",
          "text": [
            "[('Barack', 'NNP'), ('Obama', 'NNP'), ('likes', 'VBZ'), ('fried', 'VBN'), ('chicken', 'JJ'), ('very', 'RB'), ('much', 'JJ')]\n"
          ]
        }
      ]
    },
    {
      "cell_type": "markdown",
      "source": [
        "#영문 개체명인식"
      ],
      "metadata": {
        "id": "VESm7YecZ0B_"
      }
    },
    {
      "cell_type": "code",
      "source": [
        "nltk.download('words')\n",
        "nltk.download('maxent_ne_chunker')"
      ],
      "metadata": {
        "colab": {
          "base_uri": "https://localhost:8080/"
        },
        "id": "miHhk3MuVheO",
        "outputId": "4149592c-e6be-4906-a7d8-b4d0f4779efb"
      },
      "execution_count": null,
      "outputs": [
        {
          "output_type": "stream",
          "name": "stderr",
          "text": [
            "[nltk_data] Downloading package words to /root/nltk_data...\n",
            "[nltk_data]   Unzipping corpora/words.zip.\n",
            "[nltk_data] Downloading package maxent_ne_chunker to\n",
            "[nltk_data]     /root/nltk_data...\n",
            "[nltk_data]   Unzipping chunkers/maxent_ne_chunker.zip.\n"
          ]
        },
        {
          "output_type": "execute_result",
          "data": {
            "text/plain": [
              "True"
            ]
          },
          "metadata": {},
          "execution_count": 18
        }
      ]
    },
    {
      "cell_type": "code",
      "source": [
        "#word_tokenize\n",
        "import nltk\n",
        "# nltk punkt tokenizer download\n",
        "nltk.download('punkt')\n",
        "from nltk.tokenize import word_tokenize\n",
        "token1 = word_tokenize('Barack Obama likes fried chicken very much')\n",
        "print('token:', token1)"
      ],
      "metadata": {
        "colab": {
          "base_uri": "https://localhost:8080/"
        },
        "id": "hIyRBTyCX-_T",
        "outputId": "886c0808-2bb9-4b6b-b581-ad065d57b227"
      },
      "execution_count": null,
      "outputs": [
        {
          "output_type": "stream",
          "name": "stdout",
          "text": [
            "token: ['Barack', 'Obama', 'likes', 'fried', 'chicken', 'very', 'much']\n"
          ]
        },
        {
          "output_type": "stream",
          "name": "stderr",
          "text": [
            "[nltk_data] Downloading package punkt to /root/nltk_data...\n",
            "[nltk_data]   Package punkt is already up-to-date!\n"
          ]
        }
      ]
    },
    {
      "cell_type": "code",
      "source": [
        "#pot_tag\n",
        "taggedToken = pos_tag(token1)\n",
        "print('pos-tag:', taggedToken)"
      ],
      "metadata": {
        "colab": {
          "base_uri": "https://localhost:8080/"
        },
        "id": "O-el2sb8WoQ8",
        "outputId": "cec87890-d773-46b3-ccaf-7d40a894504e"
      },
      "execution_count": null,
      "outputs": [
        {
          "output_type": "stream",
          "name": "stdout",
          "text": [
            "pos-tag: [('Barack', 'NNP'), ('Obama', 'NNP'), ('likes', 'VBZ'), ('fried', 'VBN'), ('chicken', 'JJ'), ('very', 'RB'), ('much', 'JJ')]\n"
          ]
        }
      ]
    },
    {
      "cell_type": "code",
      "source": [
        "#chunking\n",
        "from nltk import ne_chunk\n",
        "neToken = ne_chunk(taggedToken)\n",
        "print(neToken)"
      ],
      "metadata": {
        "colab": {
          "base_uri": "https://localhost:8080/"
        },
        "id": "N1feB3SRWuvg",
        "outputId": "29b8475f-22cf-4039-bcad-c5b1f811e92e"
      },
      "execution_count": null,
      "outputs": [
        {
          "output_type": "stream",
          "name": "stdout",
          "text": [
            "(S\n",
            "  (PERSON Barack/NNP)\n",
            "  (ORGANIZATION Obama/NNP)\n",
            "  likes/VBZ\n",
            "  fried/VBN\n",
            "  chicken/JJ\n",
            "  very/RB\n",
            "  much/JJ)\n"
          ]
        }
      ]
    },
    {
      "cell_type": "markdown",
      "source": [
        "#텍스트 전처리\n",
        "\n",
        "\n",
        "*   텍스트를 자연어 처리를 위해 용도에 맞도록 사전에 표준화 하는 작업\n",
        "*   텍스트 내 정보를 유지하고, 중복을 제거하여 분석 효율성을 높이기 위해 전처리를 수행\n",
        "\n"
      ],
      "metadata": {
        "id": "Rz0TqiQ6baqf"
      }
    },
    {
      "cell_type": "markdown",
      "source": [
        "#1. 토큰화\n",
        "\n",
        "\n",
        "*   텍스트를 자연어 처리를 위해 분리 하는 것\n",
        "* 토큰화는 단어별로 분리하는 '단어 토큰화'와 문장별로 분리하는'문장 토큰화'로 구분(이후 실습에서는 단어 토큰화를 '토큰화'로 통일하여 칭하도록 한다.)\n",
        "\n"
      ],
      "metadata": {
        "id": "Q9nXvzvnbWMf"
      }
    },
    {
      "cell_type": "code",
      "source": [
        "text = '''인생은 모두가 함께하는 여행이다. 매일매일 사는 동안 우리가 할 수 있는 건 최선을 다해 이 멋진 여행을 만끽하는 것이다.'''"
      ],
      "metadata": {
        "id": "r5iFsk1lYXEa"
      },
      "execution_count": null,
      "outputs": []
    },
    {
      "cell_type": "code",
      "source": [
        "# 띄어쓰기로 토큰화\n",
        "print(text.split(' '))"
      ],
      "metadata": {
        "colab": {
          "base_uri": "https://localhost:8080/"
        },
        "id": "zjZKpdQ9b-fz",
        "outputId": "efd4e5f5-5813-471a-f076-41352618c5eb"
      },
      "execution_count": null,
      "outputs": [
        {
          "output_type": "stream",
          "name": "stdout",
          "text": [
            "['인생은', '모두가', '함께하는', '여행이다.', '매일매일', '사는', '동안', '우리가', '할', '수', '있는', '건', '최선을', '다해', '이', '멋진', '여행을', '만끽하는', '것이다.']\n"
          ]
        }
      ]
    },
    {
      "cell_type": "code",
      "source": [
        "# !pip install konlpy"
      ],
      "metadata": {
        "id": "6fYo1npNcET_"
      },
      "execution_count": null,
      "outputs": []
    },
    {
      "cell_type": "code",
      "source": [
        "# 코모란\n",
        "from konlpy.tag import Komoran\n",
        "#선언\n",
        "komoran = Komoran()\n",
        "# 토큰화 : morphs\n",
        "komoran_tokens = komoran.morphs(text)\n",
        "print(komoran_tokens)"
      ],
      "metadata": {
        "colab": {
          "base_uri": "https://localhost:8080/"
        },
        "id": "YEYISdQ1cIP4",
        "outputId": "f58926d6-1bc3-4177-d24d-9578a45a875e"
      },
      "execution_count": null,
      "outputs": [
        {
          "output_type": "stream",
          "name": "stdout",
          "text": [
            "['인생', '은', '모두', '가', '함께', '하', '는', '여행', '이', '다', '.', '매일', '매일', '살', '는', '동안', '우리', '가', '하', 'ㄹ', '수', '있', '는', '건', '최선', '을', '다', '하', '아', '이', '멋지', 'ㄴ', '여행', '을', '만끽', '하', '는', '것', '이', '다', '.']\n"
          ]
        }
      ]
    },
    {
      "cell_type": "code",
      "source": [
        "#한나눔\n",
        "from konlpy.tag import Hannanum\n",
        "hannanum = Hannanum()\n",
        "hannanum_tokens = hannanum.morphs(text)\n",
        "print(hannanum_tokens)"
      ],
      "metadata": {
        "colab": {
          "base_uri": "https://localhost:8080/"
        },
        "id": "188ErruvcgFS",
        "outputId": "b5614f5a-4a8d-431b-f75f-0c18c04f49d7"
      },
      "execution_count": null,
      "outputs": [
        {
          "output_type": "stream",
          "name": "stdout",
          "text": [
            "['인생', '은', '모두', '가', '함께하', '는', '여행', '이', '다', '.', '매일매일', '사', '는', '동안', '우리', '가', '하', 'ㄹ', '수', '있', '는', '거', '은', '최선', '을', '다하', '어', '이', '멋지', 'ㄴ', '여행', '을', '만끽', '하', '는', '것', '이', '다', '.']\n"
          ]
        }
      ]
    },
    {
      "cell_type": "code",
      "source": [
        "#Okt(형태소분석기를 만들기 위해 학습한 데이터가 sns 데이터임)\n",
        "from konlpy.tag import Okt\n",
        "okt = Okt()\n",
        "okt_tokens = okt.morphs(text)\n",
        "print(okt_tokens)"
      ],
      "metadata": {
        "colab": {
          "base_uri": "https://localhost:8080/"
        },
        "id": "J3EK0ReZdK7V",
        "outputId": "8534a003-cfe7-452a-dbde-5ea3d3ab3f12"
      },
      "execution_count": null,
      "outputs": [
        {
          "output_type": "stream",
          "name": "stdout",
          "text": [
            "['인생', '은', '모두', '가', '함께', '하는', '여행', '이다', '.', '매', '일', '매일', '사는', '동안', '우리', '가', '할', '수', '있는', '건', '최선', '을', '다해', '이', '멋진', '여행', '을', '만끽', '하는', '것', '이다', '.']\n"
          ]
        }
      ]
    },
    {
      "cell_type": "code",
      "source": [
        "#Kkma(가장 세밀하게 형태소 분석 가능)\n",
        "from konlpy.tag import Kkma\n",
        "Kkma = Kkma()\n",
        "Kkma_tokens = Kkma.morphs(text)\n",
        "print(Kkma_tokens)"
      ],
      "metadata": {
        "colab": {
          "base_uri": "https://localhost:8080/"
        },
        "id": "FZ0Xgmu1dNCn",
        "outputId": "5a23807f-d3b6-41e9-a249-76edde04e965"
      },
      "execution_count": null,
      "outputs": [
        {
          "output_type": "stream",
          "name": "stdout",
          "text": [
            "['인생', '은', '모두', '가', '함께', '하', '는', '여행', '이', '다', '.', '매일', '매일', '살', '는', '동안', '우리', '가', '하', 'ㄹ', '수', '있', '는', '것', '은', '최선', '을', '다하', '어', '이', '멋지', 'ㄴ', '여행', '을', '만끽', '하', '는', '것', '이', '다', '.']\n"
          ]
        }
      ]
    },
    {
      "cell_type": "markdown",
      "source": [
        "2) 품사 부착\n",
        "\n",
        "\n",
        "*   각 토큰에 품사정보를 추가\n",
        "*   분석시에 불필요한 품사를 제거하거나(예, 조사, 접속사 등) 필요한 품사를 필터링 하기 위해 사용\n",
        "\n"
      ],
      "metadata": {
        "id": "tX2hOReJd6sI"
      }
    },
    {
      "cell_type": "code",
      "source": [
        "#코모란\n",
        "komoranTag = []\n",
        "for token in komoran_tokens:\n",
        "  komoranTag += komoran.pos(token)\n",
        "print(komoranTag)"
      ],
      "metadata": {
        "colab": {
          "base_uri": "https://localhost:8080/"
        },
        "id": "vjjv_WgjeG8x",
        "outputId": "fba50e48-4c55-42e4-83d1-554a96e3304f"
      },
      "execution_count": null,
      "outputs": [
        {
          "output_type": "stream",
          "name": "stdout",
          "text": [
            "[('인생', 'NNG'), ('은', 'NNP'), ('모두', 'MAG'), ('가', 'VV'), ('아', 'EC'), ('함께', 'MAG'), ('하', 'NNG'), ('늘', 'VV'), ('ㄴ', 'ETM'), ('여행', 'NNG'), ('이', 'MM'), ('다', 'MAG'), ('.', 'SF'), ('매일', 'MAG'), ('매일', 'MAG'), ('살', 'VV'), ('ㄹ', 'ETM'), ('늘', 'VV'), ('ㄴ', 'ETM'), ('동안', 'NNG'), ('우리', 'NP'), ('가', 'VV'), ('아', 'EC'), ('하', 'NNG'), ('ㄹ', 'NA'), ('수', 'NNB'), ('있', 'VV'), ('늘', 'VV'), ('ㄴ', 'ETM'), ('건', 'NNB'), ('최선', 'NNP'), ('을', 'NNG'), ('다', 'MAG'), ('하', 'NNG'), ('아', 'IC'), ('이', 'MM'), ('멋', 'NNG'), ('지', 'NNB'), ('ㄴ', 'JX'), ('여행', 'NNG'), ('을', 'NNG'), ('만끽', 'NNP'), ('하', 'NNG'), ('늘', 'VV'), ('ㄴ', 'ETM'), ('것', 'NNB'), ('이', 'MM'), ('다', 'MAG'), ('.', 'SF')]\n"
          ]
        }
      ]
    },
    {
      "cell_type": "code",
      "source": [
        "#한나눔\n",
        "hannanumTag = []\n",
        "for token in hannanum_tokens:\n",
        "  hannanumTag += hannanum.pos(token)\n",
        "print(hannanumTag)"
      ],
      "metadata": {
        "colab": {
          "base_uri": "https://localhost:8080/"
        },
        "id": "ExEI234veRoF",
        "outputId": "1cd4ccd6-856c-4eee-da5c-1230fe261283"
      },
      "execution_count": null,
      "outputs": [
        {
          "output_type": "stream",
          "name": "stdout",
          "text": [
            "[('인생', 'N'), ('은', 'N'), ('모두', 'M'), ('가', 'J'), ('함께하', 'P'), ('어', 'E'), ('늘', 'P'), ('ㄴ', 'E'), ('여행', 'N'), ('이', 'M'), ('다', 'M'), ('.', 'S'), ('매일매일', 'M'), ('사', 'N'), ('늘', 'P'), ('ㄴ', 'E'), ('동안', 'N'), ('우리', 'N'), ('가', 'J'), ('하', 'I'), ('ㄹ', 'N'), ('수', 'N'), ('있', 'N'), ('늘', 'P'), ('ㄴ', 'E'), ('것', 'N'), ('은', 'N'), ('최선', 'N'), ('을', 'N'), ('다하', 'P'), ('어', 'E'), ('어', 'N'), ('이', 'M'), ('멋지', 'N'), ('ㄴ', 'N'), ('여행', 'N'), ('을', 'N'), ('만끽', 'N'), ('하', 'I'), ('늘', 'P'), ('ㄴ', 'E'), ('것', 'N'), ('이', 'M'), ('다', 'M'), ('.', 'S')]\n"
          ]
        }
      ]
    },
    {
      "cell_type": "code",
      "source": [
        "#Okt\n",
        "oktTag = []\n",
        "for token in okt_tokens:\n",
        "  oktTag += okt.pos(token)\n",
        "print(oktTag)"
      ],
      "metadata": {
        "colab": {
          "base_uri": "https://localhost:8080/"
        },
        "id": "cPw706hiesqx",
        "outputId": "151dde76-c571-44d4-c9a8-fb715c5b0d4c"
      },
      "execution_count": null,
      "outputs": [
        {
          "output_type": "stream",
          "name": "stdout",
          "text": [
            "[('인생', 'Noun'), ('은', 'Noun'), ('모두', 'Noun'), ('가', 'Verb'), ('함께', 'Adverb'), ('하는', 'Verb'), ('여행', 'Noun'), ('이다', 'Josa'), ('.', 'Punctuation'), ('매', 'Noun'), ('일', 'Noun'), ('매일', 'Noun'), ('사는', 'Verb'), ('동안', 'Noun'), ('우리', 'Noun'), ('가', 'Verb'), ('할', 'Verb'), ('수', 'Noun'), ('있는', 'Adjective'), ('건', 'Noun'), ('최선', 'Noun'), ('을', 'Josa'), ('다해', 'Noun'), ('이', 'Noun'), ('멋진', 'Adjective'), ('여행', 'Noun'), ('을', 'Josa'), ('만끽', 'Noun'), ('하는', 'Verb'), ('것', 'Noun'), ('이다', 'Josa'), ('.', 'Punctuation')]\n"
          ]
        }
      ]
    },
    {
      "cell_type": "code",
      "source": [
        "#Kkma\n",
        "KkmaTag = []\n",
        "for token in Kkma_tokens:\n",
        "  KkmaTag += Kkma.pos(token)\n",
        "print(KkmaTag)"
      ],
      "metadata": {
        "colab": {
          "base_uri": "https://localhost:8080/"
        },
        "id": "rZo_BYJ3e938",
        "outputId": "0b239ce7-e32f-4ac3-f84e-f4f10277a386"
      },
      "execution_count": null,
      "outputs": [
        {
          "output_type": "stream",
          "name": "stdout",
          "text": [
            "[('인생', 'NNG'), ('은', 'NNG'), ('모두', 'MAG'), ('가', 'NNG'), ('함께', 'MAG'), ('하', 'NNG'), ('늘', 'VA'), ('ㄴ', 'ETD'), ('여행', 'NNG'), ('이', 'NNG'), ('다', 'NNG'), ('.', 'SF'), ('매일', 'MAG'), ('매일', 'MAG'), ('살', 'NNG'), ('늘', 'VA'), ('ㄴ', 'ETD'), ('동안', 'NNG'), ('우리', 'NP'), ('가', 'NNG'), ('하', 'NNG'), ('ㄹ', 'NNG'), ('수', 'NNG'), ('있', 'VA'), ('늘', 'VA'), ('ㄴ', 'ETD'), ('것', 'NNB'), ('은', 'NNG'), ('최선', 'NNG'), ('을', 'NNG'), ('다하', 'VV'), ('어', 'NNG'), ('이', 'NNG'), ('멋지', 'VA'), ('ㄴ', 'NNG'), ('여행', 'NNG'), ('을', 'NNG'), ('만끽', 'NNG'), ('하', 'NNG'), ('늘', 'VA'), ('ㄴ', 'ETD'), ('것', 'NNB'), ('이', 'NNG'), ('다', 'NNG'), ('.', 'SF')]\n"
          ]
        }
      ]
    },
    {
      "cell_type": "markdown",
      "source": [
        "##3) 불용어 처리\n",
        "\n",
        "\n",
        "*   자연어 처리를 위해 불필요한 요소를 제거하는 작업\n",
        "*   불필요한 품사를 제거하는 작업과 불필요한 단어를 제거하는 작업으로 구성\n",
        "\n",
        "\n",
        "*   불필요한 토큰을 제거함으로써 연산의 효율성을 높임\n",
        "\n",
        "\n",
        "\n",
        "\n",
        "\n"
      ],
      "metadata": {
        "id": "TJW9eu2GfkX0"
      }
    },
    {
      "cell_type": "code",
      "source": [
        "#twitter\n",
        "#최빈어 조회. 최빈어를 조회하여 불용어 제거 대상을 산정\n",
        "from collections import Counter\n",
        "Counter(oktTag).most_common()"
      ],
      "metadata": {
        "colab": {
          "base_uri": "https://localhost:8080/"
        },
        "id": "S0yW72mhfSzk",
        "outputId": "4ef0c77e-a67c-4374-de74-05044a799beb"
      },
      "execution_count": null,
      "outputs": [
        {
          "output_type": "execute_result",
          "data": {
            "text/plain": [
              "[(('가', 'Verb'), 2),\n",
              " (('하는', 'Verb'), 2),\n",
              " (('여행', 'Noun'), 2),\n",
              " (('이다', 'Josa'), 2),\n",
              " (('.', 'Punctuation'), 2),\n",
              " (('을', 'Josa'), 2),\n",
              " (('인생', 'Noun'), 1),\n",
              " (('은', 'Noun'), 1),\n",
              " (('모두', 'Noun'), 1),\n",
              " (('함께', 'Adverb'), 1),\n",
              " (('매', 'Noun'), 1),\n",
              " (('일', 'Noun'), 1),\n",
              " (('매일', 'Noun'), 1),\n",
              " (('사는', 'Verb'), 1),\n",
              " (('동안', 'Noun'), 1),\n",
              " (('우리', 'Noun'), 1),\n",
              " (('할', 'Verb'), 1),\n",
              " (('수', 'Noun'), 1),\n",
              " (('있는', 'Adjective'), 1),\n",
              " (('건', 'Noun'), 1),\n",
              " (('최선', 'Noun'), 1),\n",
              " (('다해', 'Noun'), 1),\n",
              " (('이', 'Noun'), 1),\n",
              " (('멋진', 'Adjective'), 1),\n",
              " (('만끽', 'Noun'), 1),\n",
              " (('것', 'Noun'), 1)]"
            ]
          },
          "metadata": {},
          "execution_count": 40
        }
      ]
    },
    {
      "cell_type": "code",
      "source": [
        "#불용어 처리\n",
        "stopPos = ['Josa','Punctuation','Suffix','Foreign','Alpha','Number']\n",
        "stopWord = ['을','은','가']\n",
        "\n",
        "word = []\n",
        "for tag in oktTag:\n",
        "  if tag[1] not in stopPos:\n",
        "    if tag[0] not in stopWord:\n",
        "      word.append(tag[0])\n",
        "print(word)\n"
      ],
      "metadata": {
        "colab": {
          "base_uri": "https://localhost:8080/"
        },
        "id": "Qd4dUV33gAR0",
        "outputId": "d0e97a2e-2c7b-4ce7-be35-24db7e442adf"
      },
      "execution_count": null,
      "outputs": [
        {
          "output_type": "stream",
          "name": "stdout",
          "text": [
            "['인생', '모두', '함께', '하는', '여행', '매', '일', '매일', '사는', '동안', '우리', '할', '수', '있는', '건', '최선', '다해', '이', '멋진', '여행', '만끽', '하는', '것']\n"
          ]
        }
      ]
    },
    {
      "cell_type": "markdown",
      "source": [
        "# 실습1 -간단한 토픽모델링 구현 LSA"
      ],
      "metadata": {
        "id": "pA85xTylFhGD"
      }
    },
    {
      "cell_type": "code",
      "source": [
        "docs = ['바나나 사과 포도 포도',\n",
        "         '사과 포도',\n",
        "         '포도 바나나',\n",
        "         '짜장면 짬뽕 탕수육',\n",
        "         '볶음밥 탕수육',\n",
        "         '짜장면 짬뽕',\n",
        "         '된장찌개 김치찌개 김치 비빔밥',\n",
        "         '김치 된장 비빔밥',\n",
        "         '비빔밥 김치',\n",
        "         '사과 볶음밥 김치 된장']"
      ],
      "metadata": {
        "id": "tGaXfLSdh_RR"
      },
      "execution_count": null,
      "outputs": []
    },
    {
      "cell_type": "code",
      "source": [
        "from sklearn.feature_extraction.text import TfidfVectorizer\n",
        "from sklearn.decomposition import TruncatedSVD\n",
        "\n",
        "n_topic = 3\n",
        "#선언\n",
        "tfidf_vect = TfidfVectorizer()\n",
        "tfidf = tfidf_vect.fit_transform(docs)\n",
        "svd = TruncatedSVD(n_components=n_topic)\n",
        "u_sigma = svd.fit_transform(tfidf)\n",
        "svd.components_"
      ],
      "metadata": {
        "colab": {
          "base_uri": "https://localhost:8080/"
        },
        "id": "_7jX7s00MNVY",
        "outputId": "c0f04e6d-96f6-4e67-d9df-0ef96903b381"
      },
      "execution_count": null,
      "outputs": [
        {
          "output_type": "execute_result",
          "data": {
            "text/plain": [
              "array([[ 0.39094311,  0.08663945,  0.2634605 ,  0.08663945,  0.31533599,\n",
              "         0.1677167 ,  0.33012626,  0.42118555,  0.01907605,  0.01907605,\n",
              "         0.05422822,  0.58747296],\n",
              "       [ 0.49683512,  0.13720069,  0.26962551,  0.13720069, -0.29774469,\n",
              "         0.10773075,  0.49275818, -0.18567019,  0.02131272,  0.02131272,\n",
              "         0.04450862, -0.51222803],\n",
              "       [-0.06285924, -0.02901254, -0.00762375, -0.02901254, -0.01957621,\n",
              "         0.19210545, -0.09004258,  0.00851823,  0.60658392,  0.60658392,\n",
              "         0.46061907, -0.02794911]])"
            ]
          },
          "metadata": {},
          "execution_count": 8
        }
      ]
    },
    {
      "cell_type": "code",
      "source": [
        "vocab = tfidf_vect.get_feature_names_out()\n",
        "\n",
        "n = 3\n",
        "for idx,topic in enumerate(svd.components_):\n",
        "  print('Topic %d:' %(idx), [(vocab[i],topic[i].round(5))for i in topic.argsort()[:-n - 1:-1]])"
      ],
      "metadata": {
        "colab": {
          "base_uri": "https://localhost:8080/"
        },
        "id": "OpfU8qYJPtYd",
        "outputId": "ae1147cc-634d-44cb-8566-110e7322fd41"
      },
      "execution_count": null,
      "outputs": [
        {
          "output_type": "stream",
          "name": "stdout",
          "text": [
            "Topic 0: [('포도', 0.58747), ('사과', 0.42119), ('김치', 0.39094)]\n",
            "Topic 1: [('김치', 0.49684), ('비빔밥', 0.49276), ('된장', 0.26963)]\n",
            "Topic 2: [('짬뽕', 0.60658), ('짜장면', 0.60658), ('탕수육', 0.46062)]\n"
          ]
        }
      ]
    },
    {
      "cell_type": "markdown",
      "source": [
        "#단어 벡터간의 상관관계"
      ],
      "metadata": {
        "id": "DdLPPunVSWZj"
      }
    },
    {
      "cell_type": "code",
      "source": [
        "#단어벡터\n",
        "for i in range(len(vocab)):\n",
        "  print('{}:{}'.format(vocab[i],svd.components_.T[i]))"
      ],
      "metadata": {
        "colab": {
          "base_uri": "https://localhost:8080/"
        },
        "id": "svFQ47JlSR2M",
        "outputId": "624b1635-ad50-4dae-d2cb-190362dc20a5"
      },
      "execution_count": null,
      "outputs": [
        {
          "output_type": "stream",
          "name": "stdout",
          "text": [
            "김치:[ 0.39094311  0.49683512 -0.06285924]\n",
            "김치찌개:[ 0.08663945  0.13720069 -0.02901254]\n",
            "된장:[ 0.2634605   0.26962551 -0.00762375]\n",
            "된장찌개:[ 0.08663945  0.13720069 -0.02901254]\n",
            "바나나:[ 0.31533599 -0.29774469 -0.01957621]\n",
            "볶음밥:[0.1677167  0.10773075 0.19210545]\n",
            "비빔밥:[ 0.33012626  0.49275818 -0.09004258]\n",
            "사과:[ 0.42118555 -0.18567019  0.00851823]\n",
            "짜장면:[0.01907605 0.02131272 0.60658392]\n",
            "짬뽕:[0.01907605 0.02131272 0.60658392]\n",
            "탕수육:[0.05422822 0.04450862 0.46061907]\n",
            "포도:[ 0.58747296 -0.51222803 -0.02794911]\n"
          ]
        }
      ]
    },
    {
      "cell_type": "code",
      "source": [
        "import numpy as np\n",
        "from numpy import dot\n",
        "from numpy.linalg import norm\n",
        "#코사인유사도\n",
        "def cosine_similarity(a,b) :\n",
        "  return dot(a,b) / (norm(a)*norm(b))\n",
        "# 코사인 유사도를 사용해서 행렬의 유사도 구하기\n",
        "def calc_similarity_matrix(vectors):\n",
        "  n_word = len(vectors)\n",
        "  similarity_matrix = np.zeros((n_word,n_word))\n",
        "\n",
        "  for i in range(n_word):\n",
        "    #위에서 정의한 코사인 유사도 사용\n",
        "    for j in range(i,n_word) :\n",
        "      similarity_matrix[j,i] = cosine_similarity(vectors[i],vectors[j]).round(4)\n",
        "  return similarity_matrix"
      ],
      "metadata": {
        "id": "VOpyORMMU7Jz"
      },
      "execution_count": null,
      "outputs": []
    },
    {
      "cell_type": "code",
      "source": [
        "import matplotlib.pyplot as plt\n",
        "import seaborn as sns\n",
        "\n",
        "def visualize_similarity(similarity_matrix) :\n",
        "  uniform_data = similarity_matrix\n",
        "  mask = np.triu(np.ones_like(similarity_matrix,dtype = np.bool))\n",
        "  plt.rcParams['figure.figsize'] = [8,6]\n",
        "  ax = sns.heatmap(uniform_data,mask=mask,\n",
        "                   annot = True,fmt = '.2f',annot_kws={'size':8},\n",
        "                   cmap='coolwarm')"
      ],
      "metadata": {
        "id": "FN6TJ0tIV1dy"
      },
      "execution_count": null,
      "outputs": []
    },
    {
      "cell_type": "code",
      "source": [
        "print(vocab)"
      ],
      "metadata": {
        "colab": {
          "base_uri": "https://localhost:8080/"
        },
        "id": "jVQuGrNpW-R4",
        "outputId": "b48f4e6d-d7e1-43b3-bea8-b60b7b76cdb5"
      },
      "execution_count": null,
      "outputs": [
        {
          "output_type": "stream",
          "name": "stdout",
          "text": [
            "['김치' '김치찌개' '된장' '된장찌개' '바나나' '볶음밥' '비빔밥' '사과' '짜장면' '짬뽕' '탕수육' '포도']\n"
          ]
        }
      ]
    },
    {
      "cell_type": "code",
      "source": [
        "word_vectors = svd.components_.T\n",
        "word_similarity_matrix = calc_similarity_matrix(word_vectors)\n",
        "visualize_similarity(word_similarity_matrix)"
      ],
      "metadata": {
        "colab": {
          "base_uri": "https://localhost:8080/",
          "height": 604
        },
        "id": "b0WcKf2WW_cY",
        "outputId": "f21f5d22-45c5-4163-f930-fb5c5154bd62"
      },
      "execution_count": null,
      "outputs": [
        {
          "output_type": "stream",
          "name": "stderr",
          "text": [
            "<ipython-input-20-ba476838e99c>:6: DeprecationWarning: `np.bool` is a deprecated alias for the builtin `bool`. To silence this warning, use `bool` by itself. Doing this will not modify any behavior and is safe. If you specifically wanted the numpy scalar type, use `np.bool_` here.\n",
            "Deprecated in NumPy 1.20; for more details and guidance: https://numpy.org/devdocs/release/1.20.0-notes.html#deprecations\n",
            "  mask = np.triu(np.ones_like(similarity_matrix,dtype = np.bool))\n"
          ]
        },
        {
          "output_type": "display_data",
          "data": {
            "text/plain": [
              "<Figure size 800x600 with 2 Axes>"
            ],
            "image/png": "[encoded data removed]"
          },
          "metadata": {}
        }
      ]
    },
    {
      "cell_type": "markdown",
      "source": [
        "#단어벡터 시각화"
      ],
      "metadata": {
        "id": "lAnsIfYMY7qm"
      }
    },
    {
      "cell_type": "code",
      "source": [
        "#한글 폰트 설정\n",
        "# 설치하고 한글 적용이 안된다면, 런타임 > 런타임 다시시작 ; 하고 설치코드 제외하고 나머지 코드 실행\n",
        "!sudo apt-get install -y fonts-nanum\n",
        "!sudo fc-cache -fv\n",
        "!rm ~/.cache/matplotlib -rf"
      ],
      "metadata": {
        "colab": {
          "base_uri": "https://localhost:8080/"
        },
        "id": "hvIH1k6hXOK0",
        "outputId": "931e8cdb-0b69-4e8e-c1b3-e612f3d2433e"
      },
      "execution_count": null,
      "outputs": [
        {
          "output_type": "stream",
          "name": "stdout",
          "text": [
            "Reading package lists... Done\n",
            "Building dependency tree... Done\n",
            "Reading state information... Done\n",
            "The following NEW packages will be installed:\n",
            "  fonts-nanum\n",
            "0 upgraded, 1 newly installed, 0 to remove and 18 not upgraded.\n",
            "Need to get 10.3 MB of archives.\n",
            "After this operation, 34.1 MB of additional disk space will be used.\n",
            "Get:1 http://archive.ubuntu.com/ubuntu jammy/universe amd64 fonts-nanum all 20200506-1 [10.3 MB]\n",
            "Fetched 10.3 MB in 3s (3,378 kB/s)\n",
            "debconf: unable to initialize frontend: Dialog\n",
            "debconf: (No usable dialog-like program is installed, so the dialog based frontend cannot be used. at /usr/share/perl5/Debconf/FrontEnd/Dialog.pm line 78, <> line 1.)\n",
            "debconf: falling back to frontend: Readline\n",
            "debconf: unable to initialize frontend: Readline\n",
            "debconf: (This frontend requires a controlling tty.)\n",
            "debconf: falling back to frontend: Teletype\n",
            "dpkg-preconfigure: unable to re-open stdin: \n",
            "Selecting previously unselected package fonts-nanum.\n",
            "(Reading database ... 120875 files and directories currently installed.)\n",
            "Preparing to unpack .../fonts-nanum_20200506-1_all.deb ...\n",
            "Unpacking fonts-nanum (20200506-1) ...\n",
            "Setting up fonts-nanum (20200506-1) ...\n",
            "Processing triggers for fontconfig (2.13.1-4.2ubuntu5) ...\n",
            "/usr/share/fonts: caching, new cache contents: 0 fonts, 1 dirs\n",
            "/usr/share/fonts/truetype: caching, new cache contents: 0 fonts, 3 dirs\n",
            "/usr/share/fonts/truetype/humor-sans: caching, new cache contents: 1 fonts, 0 dirs\n",
            "/usr/share/fonts/truetype/liberation: caching, new cache contents: 16 fonts, 0 dirs\n",
            "/usr/share/fonts/truetype/nanum: caching, new cache contents: 12 fonts, 0 dirs\n",
            "/usr/local/share/fonts: caching, new cache contents: 0 fonts, 0 dirs\n",
            "/root/.local/share/fonts: skipping, no such directory\n",
            "/root/.fonts: skipping, no such directory\n",
            "/usr/share/fonts/truetype: skipping, looped directory detected\n",
            "/usr/share/fonts/truetype/humor-sans: skipping, looped directory detected\n",
            "/usr/share/fonts/truetype/liberation: skipping, looped directory detected\n",
            "/usr/share/fonts/truetype/nanum: skipping, looped directory detected\n",
            "/var/cache/fontconfig: cleaning cache directory\n",
            "/root/.cache/fontconfig: not cleaning non-existent cache directory\n",
            "/root/.fontconfig: not cleaning non-existent cache directory\n",
            "fc-cache: succeeded\n"
          ]
        }
      ]
    },
    {
      "cell_type": "code",
      "source": [
        "%matplotlib inline\n",
        "import matplotlib.font_manager as fm\n",
        "import matplotlib\n",
        "font_path = '/usr/share/fonts/truetype/nanum/NanumGothic.ttf'\n",
        "fontprop = fm.FontProperties(fname=font_path, size=12)\n"
      ],
      "metadata": {
        "id": "AhK3kqaqY_Xc"
      },
      "execution_count": null,
      "outputs": []
    },
    {
      "cell_type": "code",
      "source": [
        "from sklearn.manifold import TSNE\n",
        "import numpy as np\n",
        "vectors = word_vectors\n",
        "labels = tfidf_vect.get_feature_names_out()\n",
        "\n",
        "def visualize_vectors(vectors,labels):\n",
        "  tsne = TSNE(n_components =2, random_state=0, n_iter=10000, \\\n",
        "              perplexity=2)\n",
        "  np.set_printoptions(suppress=True)\n",
        "  T=tsne.fit_transform(vectors)\n",
        "\n",
        "  plt.figure(figsize=(10,6))\n",
        "  plt.scatter(T[:,0],T[:,1],c='orange',edgecolors='r')\n",
        "  for label,x,y in zip(labels,T[:,0],T[:,1]):\n",
        "    plt.annotate(label,xy=(x+1,y+1),xytext=(0,0), \\\n",
        "                 textcoords='offset points',\\\n",
        "                 fontproperties=fontprop)\n",
        "visualize_vectors(vectors,labels)"
      ],
      "metadata": {
        "colab": {
          "base_uri": "https://localhost:8080/",
          "height": 522
        },
        "id": "EJjIvWhBZq8f",
        "outputId": "3878222d-9001-4cd5-f205-41ff37319a8b"
      },
      "execution_count": null,
      "outputs": [
        {
          "output_type": "display_data",
          "data": {
            "text/plain": [
              "<Figure size 1000x600 with 1 Axes>"
            ],
            "image/png": "[encoded data removed]"
          },
          "metadata": {}
        }
      ]
    },
    {
      "cell_type": "markdown",
      "source": [],
      "metadata": {
        "id": "OMdUo9XMaz2v"
      }
    },
    {
      "cell_type": "code",
      "source": [
        "docs = ['바나나 사과 포도 포도',\n",
        "         '사과 포도',\n",
        "         '포도 바나나',\n",
        "         '짜장면 짬뽕 탕수육',\n",
        "         '볶음밥 탕수육',\n",
        "         '짜장면 짬뽕',\n",
        "         '된장찌개 김치찌개 김치 비빔밥',\n",
        "         '김치 된장 비빔밥',\n",
        "         '비빔밥 김치',\n",
        "         '사과 볶음밥 김치 된장']"
      ],
      "metadata": {
        "id": "ccuXa9rBayzg"
      },
      "execution_count": null,
      "outputs": []
    },
    {
      "cell_type": "code",
      "source": [
        "from gensim import corpora\n",
        "from gensim.models import LdaModel,TfidfModel\n",
        "\n",
        "#분석할 문서를 공백으로 토큰화\n",
        "tokenized_docs = []\n",
        "for doc in docs:\n",
        "  tokenized_docs.append(doc.split(' '))\n",
        "tokenized_docs\n"
      ],
      "metadata": {
        "colab": {
          "base_uri": "https://localhost:8080/"
        },
        "id": "3RWufrPnrzCn",
        "outputId": "a36ce160-2931-4b67-f7c5-31611eac002a"
      },
      "execution_count": null,
      "outputs": [
        {
          "output_type": "execute_result",
          "data": {
            "text/plain": [
              "[['바나나', '사과', '포도', '포도'],\n",
              " ['사과', '포도'],\n",
              " ['포도', '바나나'],\n",
              " ['짜장면', '짬뽕', '탕수육'],\n",
              " ['볶음밥', '탕수육'],\n",
              " ['짜장면', '짬뽕'],\n",
              " ['된장찌개', '김치찌개', '김치', '비빔밥'],\n",
              " ['김치', '된장', '비빔밥'],\n",
              " ['비빔밥', '김치'],\n",
              " ['사과', '볶음밥', '김치', '된장']]"
            ]
          },
          "metadata": {},
          "execution_count": 38
        }
      ]
    },
    {
      "cell_type": "code",
      "source": [
        "id2word = corpora.Dictionary(tokenized_docs)\n",
        "print(id2word)"
      ],
      "metadata": {
        "colab": {
          "base_uri": "https://localhost:8080/"
        },
        "id": "HfJCrppxsJBQ",
        "outputId": "cb1e8c14-386a-4728-dc53-f310586eb8b8"
      },
      "execution_count": null,
      "outputs": [
        {
          "output_type": "stream",
          "name": "stdout",
          "text": [
            "Dictionary<12 unique tokens: ['바나나', '사과', '포도', '짜장면', '짬뽕']...>\n"
          ]
        }
      ]
    },
    {
      "cell_type": "code",
      "source": [
        "id2word"
      ],
      "metadata": {
        "colab": {
          "base_uri": "https://localhost:8080/"
        },
        "id": "-0mHTqYAs1Ai",
        "outputId": "06a17b5b-4249-4903-b269-91bb4aea2116"
      },
      "execution_count": null,
      "outputs": [
        {
          "output_type": "execute_result",
          "data": {
            "text/plain": [
              "<gensim.corpora.dictionary.Dictionary at 0x7d1966129d20>"
            ]
          },
          "metadata": {},
          "execution_count": 41
        }
      ]
    },
    {
      "cell_type": "code",
      "source": [
        "for value in id2word:\n",
        "  print(value,id2word[value])"
      ],
      "metadata": {
        "colab": {
          "base_uri": "https://localhost:8080/"
        },
        "id": "G0vTmE5SsZdI",
        "outputId": "78283789-6701-457f-bf25-9c48242430bb"
      },
      "execution_count": null,
      "outputs": [
        {
          "output_type": "stream",
          "name": "stdout",
          "text": [
            "0 바나나\n",
            "1 사과\n",
            "2 포도\n",
            "3 짜장면\n",
            "4 짬뽕\n",
            "5 탕수육\n",
            "6 볶음밥\n",
            "7 김치\n",
            "8 김치찌개\n",
            "9 된장찌개\n",
            "10 비빔밥\n",
            "11 된장\n"
          ]
        }
      ]
    },
    {
      "cell_type": "code",
      "source": [
        "# corpus_TDM = [id2word.doc2bow(doc) for doc in tokenized_docs]\n",
        "corpus_TDM = []\n",
        "for doc in tokenized_docs:\n",
        "  print(doc)\n",
        "  result = id2word.doc2bow(doc)\n",
        "  # print(result)\n",
        "  # print('\\n')\n",
        "  corpus_TDM.append(result)\n",
        "corpus_TDM"
      ],
      "metadata": {
        "colab": {
          "base_uri": "https://localhost:8080/"
        },
        "id": "fQkgwEgQsc5t",
        "outputId": "14cdcc26-cc50-44ca-b5c1-916fb1a264e7"
      },
      "execution_count": null,
      "outputs": [
        {
          "output_type": "stream",
          "name": "stdout",
          "text": [
            "['바나나', '사과', '포도', '포도']\n",
            "['사과', '포도']\n",
            "['포도', '바나나']\n",
            "['짜장면', '짬뽕', '탕수육']\n",
            "['볶음밥', '탕수육']\n",
            "['짜장면', '짬뽕']\n",
            "['된장찌개', '김치찌개', '김치', '비빔밥']\n",
            "['김치', '된장', '비빔밥']\n",
            "['비빔밥', '김치']\n",
            "['사과', '볶음밥', '김치', '된장']\n"
          ]
        },
        {
          "output_type": "execute_result",
          "data": {
            "text/plain": [
              "[[(0, 1), (1, 1), (2, 2)],\n",
              " [(1, 1), (2, 1)],\n",
              " [(0, 1), (2, 1)],\n",
              " [(3, 1), (4, 1), (5, 1)],\n",
              " [(5, 1), (6, 1)],\n",
              " [(3, 1), (4, 1)],\n",
              " [(7, 1), (8, 1), (9, 1), (10, 1)],\n",
              " [(7, 1), (10, 1), (11, 1)],\n",
              " [(7, 1), (10, 1)],\n",
              " [(1, 1), (6, 1), (7, 1), (11, 1)]]"
            ]
          },
          "metadata": {},
          "execution_count": 47
        }
      ]
    },
    {
      "cell_type": "code",
      "source": [
        "#LDA 사용하는 방법\n",
        "tfidf = TfidfModel(corpus_TDM)\n",
        "corpus_TFIDF = tfidf[corpus_TDM]\n",
        "\n",
        "n=3 #토픽갯수(변경가능)\n",
        "lda = LdaModel(corpus=corpus_TFIDF,\n",
        "               id2word = id2word,\n",
        "               num_topics=n,\n",
        "               random_state=100)\n",
        "for t in lda.print_topics():\n",
        "  print(t[0],':',t[1])"
      ],
      "metadata": {
        "colab": {
          "base_uri": "https://localhost:8080/"
        },
        "id": "T03p-eivtaAj",
        "outputId": "a1736aee-f031-4ba8-b772-0d8567aad030"
      },
      "execution_count": null,
      "outputs": [
        {
          "output_type": "stream",
          "name": "stderr",
          "text": [
            "WARNING:gensim.models.ldamodel:too few updates, training might not converge; consider increasing the number of passes or iterations to improve accuracy\n"
          ]
        },
        {
          "output_type": "stream",
          "name": "stdout",
          "text": [
            "0 : 0.158*\"탕수육\" + 0.105*\"볶음밥\" + 0.100*\"된장찌개\" + 0.100*\"짬뽕\" + 0.099*\"김치찌개\" + 0.097*\"짜장면\" + 0.078*\"비빔밥\" + 0.071*\"김치\" + 0.056*\"포도\" + 0.049*\"사과\"\n",
            "1 : 0.241*\"포도\" + 0.170*\"바나나\" + 0.158*\"사과\" + 0.053*\"김치\" + 0.051*\"볶음밥\" + 0.050*\"된장\" + 0.049*\"짬뽕\" + 0.048*\"비빔밥\" + 0.048*\"짜장면\" + 0.048*\"탕수육\"\n",
            "2 : 0.154*\"비빔밥\" + 0.150*\"김치\" + 0.148*\"된장\" + 0.097*\"짜장면\" + 0.094*\"짬뽕\" + 0.089*\"볶음밥\" + 0.068*\"사과\" + 0.043*\"포도\" + 0.042*\"바나나\" + 0.042*\"탕수육\"\n"
          ]
        }
      ]
    },
    {
      "cell_type": "code",
      "source": [],
      "metadata": {
        "id": "XWAo5eI-vfQu"
      },
      "execution_count": null,
      "outputs": []
    }
  ]
}
