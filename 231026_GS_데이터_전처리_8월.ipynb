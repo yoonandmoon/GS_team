{
  "nbformat": 4,
  "nbformat_minor": 0,
  "metadata": {
    "colab": {
      "provenance": [],
      "mount_file_id": "1jCQGX3coWJjEfWA1CZJjOWOciZOELjyb",
      "authorship_tag": "ABX9TyPHeB0rAa3jjSqYCO7bZLVu",
      "include_colab_link": true
    },
    "kernelspec": {
      "name": "python3",
      "display_name": "Python 3"
    },
    "language_info": {
      "name": "python"
    }
  },
  "cells": [
    {
      "cell_type": "markdown",
      "metadata": {
        "id": "view-in-github",
        "colab_type": "text"
      },
      "source": [
        "<a href=\"https://colab.research.google.com/github/yoonandmoon/GS_team/blob/cleansing_yschoi/231026_GS_%EB%8D%B0%EC%9D%B4%ED%84%B0_%EC%A0%84%EC%B2%98%EB%A6%AC_8%EC%9B%94.ipynb\" target=\"_parent\"><img src=\"https://colab.research.google.com/assets/colab-badge.svg\" alt=\"Open In Colab\"/></a>"
      ]
    },
    {
      "cell_type": "code",
      "execution_count": null,
      "metadata": {
        "colab": {
          "base_uri": "https://localhost:8080/"
        },
        "id": "_zEA52HdvJZ-",
        "outputId": "6e3353ef-ac56-4f5f-a87c-f050ae3b5362"
      },
      "outputs": [
        {
          "output_type": "stream",
          "name": "stdout",
          "text": [
            "Drive already mounted at /content/drive; to attempt to forcibly remount, call drive.mount(\"/content/drive\", force_remount=True).\n"
          ]
        }
      ],
      "source": [
        "from google.colab import drive\n",
        "drive.mount('/content/drive')"
      ]
    },
    {
      "cell_type": "code",
      "source": [
        "import pandas as pd\n",
        "df = pd.read_csv('/content/drive/MyDrive/Colab Notebooks/news_data08.csv')\n",
        "\n",
        "df2 = df[['title','date','content']]\n",
        "df2['content'] = df['content'].str.replace('\\n',' ').replace('\\t',' ').replace('\\r', ' ')"
      ],
      "metadata": {
        "colab": {
          "base_uri": "https://localhost:8080/"
        },
        "id": "ZijtFtcXvQm1",
        "outputId": "aea7c6aa-947e-48d9-e07f-6e1c5a3143b1"
      },
      "execution_count": null,
      "outputs": [
        {
          "output_type": "stream",
          "name": "stderr",
          "text": [
            "<ipython-input-2-67a978c0538e>:5: SettingWithCopyWarning: \n",
            "A value is trying to be set on a copy of a slice from a DataFrame.\n",
            "Try using .loc[row_indexer,col_indexer] = value instead\n",
            "\n",
            "See the caveats in the documentation: https://pandas.pydata.org/pandas-docs/stable/user_guide/indexing.html#returning-a-view-versus-a-copy\n",
            "  df2['content'] = df['content'].str.replace('\\n',' ').replace('\\t',' ').replace('\\r', ' ')\n"
          ]
        }
      ]
    },
    {
      "cell_type": "code",
      "source": [
        "!pip install konlpy"
      ],
      "metadata": {
        "colab": {
          "base_uri": "https://localhost:8080/"
        },
        "id": "-PCmx-MuvyC7",
        "outputId": "8b526ca2-8b68-488a-e257-9c88b4a9926c"
      },
      "execution_count": null,
      "outputs": [
        {
          "output_type": "stream",
          "name": "stdout",
          "text": [
            "Collecting konlpy\n",
            "  Downloading konlpy-0.6.0-py2.py3-none-any.whl (19.4 MB)\n",
            "\u001b[2K     \u001b[90m━━━━━━━━━━━━━━━━━━━━━━━━━━━━━━━━━━━━━━━━\u001b[0m \u001b[32m19.4/19.4 MB\u001b[0m \u001b[31m59.2 MB/s\u001b[0m eta \u001b[36m0:00:00\u001b[0m\n",
            "\u001b[?25hCollecting JPype1>=0.7.0 (from konlpy)\n",
            "  Downloading JPype1-1.4.1-cp310-cp310-manylinux_2_12_x86_64.manylinux2010_x86_64.whl (465 kB)\n",
            "\u001b[2K     \u001b[90m━━━━━━━━━━━━━━━━━━━━━━━━━━━━━━━━━━━━━━━━\u001b[0m \u001b[32m465.3/465.3 kB\u001b[0m \u001b[31m34.3 MB/s\u001b[0m eta \u001b[36m0:00:00\u001b[0m\n",
            "\u001b[?25hRequirement already satisfied: lxml>=4.1.0 in /usr/local/lib/python3.10/dist-packages (from konlpy) (4.9.3)\n",
            "Requirement already satisfied: numpy>=1.6 in /usr/local/lib/python3.10/dist-packages (from konlpy) (1.23.5)\n",
            "Requirement already satisfied: packaging in /usr/local/lib/python3.10/dist-packages (from JPype1>=0.7.0->konlpy) (23.2)\n",
            "Installing collected packages: JPype1, konlpy\n",
            "Successfully installed JPype1-1.4.1 konlpy-0.6.0\n"
          ]
        }
      ]
    },
    {
      "cell_type": "code",
      "source": [
        "pip install mecab-ko-msvc mecab-ko-dic-msvc"
      ],
      "metadata": {
        "colab": {
          "base_uri": "https://localhost:8080/"
        },
        "id": "8iqs2PhpFOO3",
        "outputId": "27b36d0c-6655-4e69-f17d-5872705ddd6b"
      },
      "execution_count": null,
      "outputs": [
        {
          "output_type": "stream",
          "name": "stdout",
          "text": [
            "Collecting mecab-ko-msvc\n",
            "  Downloading mecab_ko_msvc-0.999-cp310-cp310-manylinux_2_17_x86_64.manylinux2014_x86_64.whl (2.0 MB)\n",
            "\u001b[2K     \u001b[90m━━━━━━━━━━━━━━━━━━━━━━━━━━━━━━━━━━━━━━━━\u001b[0m \u001b[32m2.0/2.0 MB\u001b[0m \u001b[31m13.6 MB/s\u001b[0m eta \u001b[36m0:00:00\u001b[0m\n",
            "\u001b[?25hCollecting mecab-ko-dic-msvc\n",
            "  Downloading mecab_ko_dic_msvc-0.999-py2.py3-none-any.whl (84.1 MB)\n",
            "\u001b[2K     \u001b[90m━━━━━━━━━━━━━━━━━━━━━━━━━━━━━━━━━━━━━━━━\u001b[0m \u001b[32m84.1/84.1 MB\u001b[0m \u001b[31m7.6 MB/s\u001b[0m eta \u001b[36m0:00:00\u001b[0m\n",
            "\u001b[?25hInstalling collected packages: mecab-ko-dic-msvc, mecab-ko-msvc\n",
            "Successfully installed mecab-ko-dic-msvc-0.999 mecab-ko-msvc-0.999\n"
          ]
        }
      ]
    },
    {
      "cell_type": "code",
      "source": [
        "import MeCab\n",
        "import pandas as pd\n",
        "import re\n",
        "\n",
        "# Mecab 인스턴스 생성\n",
        "m = MeCab.Tagger()\n",
        "\n",
        "# 'title' 열의 결과를 'titl' 열에 저장\n",
        "df2['titl'] = df2['title'].apply(lambda x: re.sub('[^가-힣ㄱ-ㅎㅏ-ㅣ\\\\s]', ' ', x))\n",
        "\n",
        "# 'content' 열의 결과를 'cont' 열에 저장\n",
        "df2['cont'] = df2['content'].apply(lambda x: re.sub('[^가-힣ㄱ-ㅎㅏ-ㅣ\\\\s]', ' ', str(x)))\n",
        "\n",
        "def extract_words(text):\n",
        "    # 텍스트를 Mecab을 사용하여 토큰화합니다.\n",
        "    tokens = m.parse(str(text)).split('\\n')\n",
        "\n",
        "    # 선택된 단어를 저장할 리스트\n",
        "    selected_words = []\n",
        "\n",
        "    for token in tokens:\n",
        "        if len(token) >= 2:\n",
        "            # 각 토큰을 탭(\\t)으로 분리하여 형태소와 품사 정보를 얻습니다.\n",
        "            parts = token.split('\\t')\n",
        "            if len(parts) == 2:\n",
        "                word, pos = parts\n",
        "                pos = pos.split(',')[0]  # 품사 정보에서 첫 번째 부분만 사용\n",
        "\n",
        "                # 선택 조건 (명사, 동사, 형용사)을 확인하고 선택된 단어 리스트에 추가\n",
        "                if len(word) >= 2 and pos in ['NNG', 'VV', 'VA']:\n",
        "                    selected_words.append(word)\n",
        "\n",
        "    # 선택된 단어를 공백으로 구분된 문자열로 반환합니다.\n",
        "    return ' '.join(selected_words)\n",
        "\n",
        "# 'title' 및 'content' 열에 대해 처리\n",
        "for i, row in df2.iterrows():\n",
        "    df2.at[i, 'titl'] = extract_words(row['title'])\n",
        "    df2.at[i, 'cont'] = extract_words(row['content'])\n",
        "\n",
        "df3 = df2[['date','titl','cont']]\n"
      ],
      "metadata": {
        "colab": {
          "base_uri": "https://localhost:8080/"
        },
        "id": "nhCf92nwv2bQ",
        "outputId": "0baed9f0-aac8-4ee4-9423-70e0d3324220"
      },
      "execution_count": null,
      "outputs": [
        {
          "output_type": "stream",
          "name": "stderr",
          "text": [
            "<ipython-input-5-df7b657af641>:9: SettingWithCopyWarning: \n",
            "A value is trying to be set on a copy of a slice from a DataFrame.\n",
            "Try using .loc[row_indexer,col_indexer] = value instead\n",
            "\n",
            "See the caveats in the documentation: https://pandas.pydata.org/pandas-docs/stable/user_guide/indexing.html#returning-a-view-versus-a-copy\n",
            "  df2['titl'] = df2['title'].apply(lambda x: re.sub('[^가-힣ㄱ-ㅎㅏ-ㅣ\\\\s]', ' ', x))\n"
          ]
        }
      ]
    },
    {
      "cell_type": "code",
      "source": [
        "from collections import Counter\n",
        "\n",
        "words_list = df3['cont'].str.split()\n",
        "\n",
        "all_words = [word for words in words_list for word in words]\n",
        "\n",
        "word_counts = Counter(all_words)\n",
        "\n",
        "most_common_words = word_counts.most_common(50)\n",
        "print(\"가장 많이 나온 상위 50개 단어:\")\n",
        "for word, count in most_common_words:\n",
        "    print(f\"{word}: {count}\")\n",
        "\n",
        "\n",
        "stop_word = ['기자','지난해','올해',\"따르\",'건설','기자']\n",
        "\n",
        "def preprocess(text):\n",
        "  text = text.split()\n",
        "  text = [i for i in text if i not in stop_word]\n",
        "  return text\n",
        "\n",
        "def preprocess(text):\n",
        "  text = text.split()\n",
        "  text = [i for i in text if i not in stop_word]\n",
        "  return text\n",
        "\n",
        "def make_tokens(df):\n",
        "  df['tokens'] = ' '\n",
        "  for i, row in df.iterrows():\n",
        "    if i%100==0:\n",
        "      print(i,'/',len(df))\n",
        "    token = preprocess(df['cont'][i])\n",
        "    df['tokens'][i] = ' '.join(token)\n",
        "  return df\n",
        "\n",
        "df4 = make_tokens(df3)\n",
        "\n"
      ],
      "metadata": {
        "colab": {
          "base_uri": "https://localhost:8080/"
        },
        "id": "vR7bnpskv4iF",
        "outputId": "c8dcbd5c-ef00-498e-ee02-8af090cc153e"
      },
      "execution_count": null,
      "outputs": [
        {
          "output_type": "stream",
          "name": "stdout",
          "text": [
            "가장 많이 나온 상위 50개 단어:\n",
            "건설: 6293\n",
            "아파트: 3955\n",
            "국토: 2927\n",
            "영업: 2726\n",
            "처분: 2700\n",
            "정지: 2482\n",
            "사고: 2208\n",
            "현장: 2077\n",
            "사업: 2028\n",
            "공사: 1731\n",
            "안전: 1603\n",
            "시공: 1508\n",
            "철근: 1475\n",
            "검단: 1393\n",
            "주택: 1360\n",
            "지하: 1326\n",
            "장관: 1318\n",
            "붕괴: 1315\n",
            "주차장: 1283\n",
            "단지: 1279\n",
            "점검: 1265\n",
            "구조: 1211\n",
            "업체: 1202\n",
            "조사: 1178\n",
            "관련: 1154\n",
            "분양: 1154\n",
            "가구: 1136\n",
            "시장: 1070\n",
            "추진: 1067\n",
            "누락: 1057\n",
            "결과: 1043\n",
            "기술: 1030\n",
            "기업: 1020\n",
            "기자: 1000\n",
            "계획: 941\n",
            "발생: 938\n",
            "설계: 918\n",
            "예정: 915\n",
            "문제: 913\n",
            "진행: 901\n",
            "무량: 894\n",
            "경우: 868\n",
            "투자: 858\n",
            "건설사: 835\n",
            "개발: 811\n",
            "가능: 776\n",
            "정부: 773\n",
            "관리: 758\n",
            "수주: 706\n",
            "산업: 702\n",
            "0 / 1258\n",
            "100 / 1258\n",
            "200 / 1258\n",
            "300 / 1258\n"
          ]
        },
        {
          "output_type": "stream",
          "name": "stderr",
          "text": [
            "<ipython-input-7-10429cdefc54>:28: SettingWithCopyWarning: \n",
            "A value is trying to be set on a copy of a slice from a DataFrame.\n",
            "Try using .loc[row_indexer,col_indexer] = value instead\n",
            "\n",
            "See the caveats in the documentation: https://pandas.pydata.org/pandas-docs/stable/user_guide/indexing.html#returning-a-view-versus-a-copy\n",
            "  df['tokens'] = ' '\n",
            "<ipython-input-7-10429cdefc54>:33: SettingWithCopyWarning: \n",
            "A value is trying to be set on a copy of a slice from a DataFrame\n",
            "\n",
            "See the caveats in the documentation: https://pandas.pydata.org/pandas-docs/stable/user_guide/indexing.html#returning-a-view-versus-a-copy\n",
            "  df['tokens'][i] = ' '.join(token)\n"
          ]
        },
        {
          "output_type": "stream",
          "name": "stdout",
          "text": [
            "400 / 1258\n",
            "500 / 1258\n",
            "600 / 1258\n",
            "700 / 1258\n",
            "800 / 1258\n",
            "900 / 1258\n",
            "1000 / 1258\n",
            "1100 / 1258\n",
            "1200 / 1258\n"
          ]
        }
      ]
    },
    {
      "cell_type": "code",
      "source": [
        "# 이후 불용어 확인 후 반복 이때는 불용어 처리시 이 코드 사용\n",
        "#from collections import Counter\n",
        "\n",
        "#words_list = df4['tokens'].str.split()\n",
        "\n",
        "#all_words = [word for words in words_list for word in words]\n",
        "\n",
        "#word_counts = Counter(all_words)\n",
        "\n",
        "#most_common_words = word_counts.most_common(50)\n",
        "#print(\"가장 많이 나온 상위 50개 단어:\")\n",
        "#for word, count in most_common_words:\n",
        "    #print(f\"{word}: {count}\")\n",
        "\n",
        "#날짜만 추출\n",
        "df4['date'] = df4['date'].str.split(' ').str[0]\n",
        "print(df4)\n",
        "\n",
        "#csv파일 만들기\n",
        "df4.to_csv('8월_전처리.csv', index=False)"
      ],
      "metadata": {
        "colab": {
          "base_uri": "https://localhost:8080/"
        },
        "id": "EP0l3PL2xtEh",
        "outputId": "95645e92-d0ef-45c6-ee17-c560ff37b2b9"
      },
      "execution_count": null,
      "outputs": [
        {
          "output_type": "stream",
          "name": "stdout",
          "text": [
            "            date                          titl  \\\n",
            "0     2023-08-01     사설 철근 빼먹 아파트 국민 안전 이권 카르텔   \n",
            "1     2023-08-01                도색 분노 보강 공사 비용   \n",
            "2     2023-08-01            데스크 칼럼 부실 공사 부르 고령   \n",
            "3     2023-08-01                현장 기자 발주 관심 변명   \n",
            "4     2023-08-01  지방 광역시 공급 올해 수도 추월 회복세 지방 확산   \n",
            "...          ...                           ...   \n",
            "1253  2023-09-02                  가전 박람회 혁신 제품   \n",
            "1254  2023-09-02                      토막 설주 이때   \n",
            "1255  2023-09-02     현장 가전 주택 친환경 효율 전자 기술 총망라   \n",
            "1256  2023-09-02                      영상 가격 비즈   \n",
            "1257  2023-09-02                     전자 만드 살펴보   \n",
            "\n",
            "                                                   cont  \\\n",
            "0     국토 장관 지하 주차장 붕괴 사고 발생 검단 아파트 신축 공사장 모습 발주 아파트 ...   \n",
            "1     앵커 이번 정부 발표 철근 누락 사실 아파트 주민 분노 설명 논의 보강 공사 반응 ...   \n",
            "2     유통 산업 부장 고령화 실질 타격 실상 직시 다음 세대 얘기 나라 치부 단계 녹차 ...   \n",
            "3     산업 기자 대통령 토지 주택 공사 무더기 아파트 사태 관련 아파트 지하 주차장 부실...   \n",
            "4     지방 광역시 분양 예정 물량 올해 처음 수도 공급 물량 추월 전망 사진 일대 아파트...   \n",
            "...                                                 ...   \n",
            "1253  의미 연결 일상 편리 전자 가전 지속 가능 즐거움 자리 열리 참가 가족 전시관 방문...   \n",
            "1254  앵커 건설 오명 영업 정지 처분 정부 발표 주가 최악 상황 경제 평론가 관련 내용 ...   \n",
            "1255  개막 현지 시간 전자 프리 부스 투어 개최 지속 가능 마을 콘셉트 에너지 효율 제품...   \n",
            "1256  스마트 기술 집약 소형 모듈러 주택 관리 저장 모니터링 집중 부스 야외 공간 설치 ...   \n",
            "1257  전자 모듈러 주택 공개 에너지 효율 따지 공략 내년 판매 목표 전자 고객 경험 담당...   \n",
            "\n",
            "                                                 tokens  \n",
            "0     국토 장관 지하 주차장 붕괴 사고 발생 검단 아파트 신축 공사장 모습 발주 아파트 ...  \n",
            "1     앵커 이번 정부 발표 철근 누락 사실 아파트 주민 분노 설명 논의 보강 공사 반응 ...  \n",
            "2     유통 산업 부장 고령화 실질 타격 실상 직시 다음 세대 얘기 나라 치부 단계 녹차 ...  \n",
            "3     산업 대통령 토지 주택 공사 무더기 아파트 사태 관련 아파트 지하 주차장 부실 공사...  \n",
            "4     지방 광역시 분양 예정 물량 처음 수도 공급 물량 추월 전망 사진 일대 아파트 빌딩...  \n",
            "...                                                 ...  \n",
            "1253  의미 연결 일상 편리 전자 가전 지속 가능 즐거움 자리 열리 참가 가족 전시관 방문...  \n",
            "1254  앵커 오명 영업 정지 처분 정부 발표 주가 최악 상황 경제 평론가 관련 내용 주가 ...  \n",
            "1255  개막 현지 시간 전자 프리 부스 투어 개최 지속 가능 마을 콘셉트 에너지 효율 제품...  \n",
            "1256  스마트 기술 집약 소형 모듈러 주택 관리 저장 모니터링 집중 부스 야외 공간 설치 ...  \n",
            "1257  전자 모듈러 주택 공개 에너지 효율 따지 공략 내년 판매 목표 전자 고객 경험 담당...  \n",
            "\n",
            "[1258 rows x 4 columns]\n"
          ]
        },
        {
          "output_type": "stream",
          "name": "stderr",
          "text": [
            "<ipython-input-8-b4e6bc999c30>:16: SettingWithCopyWarning: \n",
            "A value is trying to be set on a copy of a slice from a DataFrame.\n",
            "Try using .loc[row_indexer,col_indexer] = value instead\n",
            "\n",
            "See the caveats in the documentation: https://pandas.pydata.org/pandas-docs/stable/user_guide/indexing.html#returning-a-view-versus-a-copy\n",
            "  df4['date'] = df4['date'].str.split(' ').str[0]\n"
          ]
        }
      ]
    }
  ]
}