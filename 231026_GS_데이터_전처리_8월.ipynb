{
  "nbformat": 4,
  "nbformat_minor": 0,
  "metadata": {
    "colab": {
      "provenance": [],
      "mount_file_id": "1jCQGX3coWJjEfWA1CZJjOWOciZOELjyb",
      "authorship_tag": "ABX9TyNO0x6bSaUNNqAGqVtDI9Bw",
      "include_colab_link": true
    },
    "kernelspec": {
      "name": "python3",
      "display_name": "Python 3"
    },
    "language_info": {
      "name": "python"
    }
  },
  "cells": [
    {
      "cell_type": "markdown",
      "metadata": {
        "id": "view-in-github",
        "colab_type": "text"
      },
      "source": [
        "<a href=\"https://colab.research.google.com/github/yoonandmoon/GS_team/blob/cleansing_yschoi/231026_GS_%EB%8D%B0%EC%9D%B4%ED%84%B0_%EC%A0%84%EC%B2%98%EB%A6%AC_8%EC%9B%94.ipynb\" target=\"_parent\"><img src=\"https://colab.research.google.com/assets/colab-badge.svg\" alt=\"Open In Colab\"/></a>"
      ]
    },
    {
      "cell_type": "code",
      "execution_count": 1,
      "metadata": {
        "colab": {
          "base_uri": "https://localhost:8080/"
        },
        "id": "_zEA52HdvJZ-",
        "outputId": "8af02440-80a6-4ea9-8cd0-162ce9f3f6d4"
      },
      "outputs": [
        {
          "output_type": "stream",
          "name": "stdout",
          "text": [
            "Mounted at /content/drive\n"
          ]
        }
      ],
      "source": [
        "from google.colab import drive\n",
        "drive.mount('/content/drive')"
      ]
    },
    {
      "cell_type": "code",
      "source": [
        "import pandas as pd\n",
        "df = pd.read_csv('/content/drive/MyDrive/Colab Notebooks/news_data08.csv')\n",
        "df2 = df[['title','content']]\n",
        "df2['content'] = df['content'].str.replace('\\n',' ').replace('\\t',' ').replace('\\r', ' ')"
      ],
      "metadata": {
        "colab": {
          "base_uri": "https://localhost:8080/"
        },
        "id": "ZijtFtcXvQm1",
        "outputId": "bf8351b0-bb29-42ca-a70a-5edc430ebe6e"
      },
      "execution_count": 2,
      "outputs": [
        {
          "output_type": "stream",
          "name": "stderr",
          "text": [
            "<ipython-input-2-cf3a1460bd8a>:4: SettingWithCopyWarning: \n",
            "A value is trying to be set on a copy of a slice from a DataFrame.\n",
            "Try using .loc[row_indexer,col_indexer] = value instead\n",
            "\n",
            "See the caveats in the documentation: https://pandas.pydata.org/pandas-docs/stable/user_guide/indexing.html#returning-a-view-versus-a-copy\n",
            "  df2['content'] = df['content'].str.replace('\\n',' ').replace('\\t',' ').replace('\\r', ' ')\n"
          ]
        }
      ]
    },
    {
      "cell_type": "code",
      "source": [
        "!pip install konlpy"
      ],
      "metadata": {
        "colab": {
          "base_uri": "https://localhost:8080/"
        },
        "id": "-PCmx-MuvyC7",
        "outputId": "91855725-370b-4e29-f784-11fe0a77a8a6"
      },
      "execution_count": 3,
      "outputs": [
        {
          "output_type": "stream",
          "name": "stdout",
          "text": [
            "Collecting konlpy\n",
            "  Downloading konlpy-0.6.0-py2.py3-none-any.whl (19.4 MB)\n",
            "\u001b[2K     \u001b[90m━━━━━━━━━━━━━━━━━━━━━━━━━━━━━━━━━━━━━━━━\u001b[0m \u001b[32m19.4/19.4 MB\u001b[0m \u001b[31m73.0 MB/s\u001b[0m eta \u001b[36m0:00:00\u001b[0m\n",
            "\u001b[?25hCollecting JPype1>=0.7.0 (from konlpy)\n",
            "  Downloading JPype1-1.4.1-cp310-cp310-manylinux_2_12_x86_64.manylinux2010_x86_64.whl (465 kB)\n",
            "\u001b[2K     \u001b[90m━━━━━━━━━━━━━━━━━━━━━━━━━━━━━━━━━━━━━━━━\u001b[0m \u001b[32m465.3/465.3 kB\u001b[0m \u001b[31m41.3 MB/s\u001b[0m eta \u001b[36m0:00:00\u001b[0m\n",
            "\u001b[?25hRequirement already satisfied: lxml>=4.1.0 in /usr/local/lib/python3.10/dist-packages (from konlpy) (4.9.3)\n",
            "Requirement already satisfied: numpy>=1.6 in /usr/local/lib/python3.10/dist-packages (from konlpy) (1.23.5)\n",
            "Requirement already satisfied: packaging in /usr/local/lib/python3.10/dist-packages (from JPype1>=0.7.0->konlpy) (23.2)\n",
            "Installing collected packages: JPype1, konlpy\n",
            "Successfully installed JPype1-1.4.1 konlpy-0.6.0\n"
          ]
        }
      ]
    },
    {
      "cell_type": "code",
      "source": [
        "# 코모란\n",
        "from konlpy.tag import Komoran\n",
        "import re\n",
        "#선언\n",
        "tokenizer = Komoran()\n",
        "\n",
        "# 토큰화 : morphs\n",
        "df2['morphs'] = None\n",
        "for i, row in df.iterrows():\n",
        "    # 'content' 열의 값이 문자열이 아닌 경우, 빈 문자열로 처리\n",
        "    if not isinstance(row['content'], str):\n",
        "        df2['morphs'][i] = ''\n",
        "    else:\n",
        "        df2['morphs'][i] = ' '.join(tokenizer.morphs(row['content']))\n",
        "# 'morphs' 열을 문자열로 변환\n",
        "df2['morphs'] = df2['morphs'].astype(str)\n",
        "\n",
        "import spacy\n",
        "\n",
        "# spaCy의 NLP 모델을 로드합니다.\n",
        "nlp = spacy.load('en_core_web_sm')\n",
        "\n",
        "def extract_words(text):\n",
        "    # 텍스트를 spaCy의 NLP 모델을 사용하여 토큰화합니다.\n",
        "    doc = nlp(text)\n",
        "\n",
        "    # 길이가 2글자 이상이고, 명사(Noun), 동사(Verb), 형용사(Adjective)인 단어를 선택합니다.\n",
        "    selected_words = [token.text for token in doc if len(token.text) >= 2 and token.pos_ in ['NOUN', 'VERB', 'ADJ']]\n",
        "\n",
        "    # 선택된 단어를 공백으로 구분된 문자열로 결합합니다.\n",
        "    return ' '.join(selected_words)\n",
        "\n",
        "df2['morphs'] = df2['morphs'].apply(extract_words)\n",
        "print(df2)"
      ],
      "metadata": {
        "colab": {
          "base_uri": "https://localhost:8080/"
        },
        "id": "nhCf92nwv2bQ",
        "outputId": "6f8baa7d-4d38-44b5-b2dc-69fef539abff"
      },
      "execution_count": 6,
      "outputs": [
        {
          "output_type": "stream",
          "name": "stderr",
          "text": [
            "<ipython-input-6-f1104a5cfe53>:8: SettingWithCopyWarning: \n",
            "A value is trying to be set on a copy of a slice from a DataFrame.\n",
            "Try using .loc[row_indexer,col_indexer] = value instead\n",
            "\n",
            "See the caveats in the documentation: https://pandas.pydata.org/pandas-docs/stable/user_guide/indexing.html#returning-a-view-versus-a-copy\n",
            "  df2['morphs'] = None\n",
            "<ipython-input-6-f1104a5cfe53>:14: SettingWithCopyWarning: \n",
            "A value is trying to be set on a copy of a slice from a DataFrame\n",
            "\n",
            "See the caveats in the documentation: https://pandas.pydata.org/pandas-docs/stable/user_guide/indexing.html#returning-a-view-versus-a-copy\n",
            "  df2['morphs'][i] = ' '.join(tokenizer.morphs(row['content']))\n",
            "<ipython-input-6-f1104a5cfe53>:12: SettingWithCopyWarning: \n",
            "A value is trying to be set on a copy of a slice from a DataFrame\n",
            "\n",
            "See the caveats in the documentation: https://pandas.pydata.org/pandas-docs/stable/user_guide/indexing.html#returning-a-view-versus-a-copy\n",
            "  df2['morphs'][i] = ''\n",
            "<ipython-input-6-f1104a5cfe53>:16: SettingWithCopyWarning: \n",
            "A value is trying to be set on a copy of a slice from a DataFrame.\n",
            "Try using .loc[row_indexer,col_indexer] = value instead\n",
            "\n",
            "See the caveats in the documentation: https://pandas.pydata.org/pandas-docs/stable/user_guide/indexing.html#returning-a-view-versus-a-copy\n",
            "  df2['morphs'] = df2['morphs'].astype(str)\n"
          ]
        },
        {
          "output_type": "stream",
          "name": "stdout",
          "text": [
            "                                                  title  \\\n",
            "0                    [사설] 철근 빼먹기 LH아파트…국민안전 무너뜨릴 이권 카르텔   \n",
            "1                              \"도색하는 줄\" 분노…'보강 공사' 비용은?   \n",
            "2                                [데스크 칼럼] 부실공사 부르는 초고령화   \n",
            "3                          [현장기자] 발주만 했지 무관심 했다는 LH의 변명   \n",
            "4                     지방광역시 공급 올해 첫 수도권 추월.. 회복세 지방 확산?   \n",
            "...                                                 ...   \n",
            "1253            [IFA 2023] 가전박람회에 집이?…삼성·LG, 혁신제품 눈에 띄네   \n",
            "1254              2년 만에 반토막난 건설주…오히려 이때 사야 한다? [머니 클라스]   \n",
            "1255  [IFA 2023 현장+] 가전부터 주택까지 친환경·고효율E…LG전자 앞선 기술 '...   \n",
            "1256          [영상] 삼성전자가 만든 집에 실제로 가보니…“가격은 1억” [비즈360]   \n",
            "1257      [IFA 2023]\"3개월이면 뚝딱\"…LG전자가 만드는 '숲속의 작은집' 살펴보니   \n",
            "\n",
            "                                                content  \\\n",
            "0       원희룡 국토교통부 장관이 지난 5월 지하 주차장 붕괴 사고가 발생한 인천 검단 ...   \n",
            "1     \\t\\t\\t<앵커>이번 정부 발표로 철근 누락 사실을 알게 된 아파트 주민들은 분노...   \n",
            "2     송종현 유통산업부장초고령화가 우리 삶을 실질적으로 타격하는 실상을 직시해야 한다. ...   \n",
            "3     강창욱 산업2부 기자윤석열 대통령은 31일 한국토지주택공사(LH)표 무더기 ‘순살 ...   \n",
            "4     8월 지방광역시의 분양 예정 물량이 올해 처음으로 수도권 공급 물량을 추월할 것으로...   \n",
            "...                                                 ...   \n",
            "1253  삼성전자 \"'의미 있는 연결'로 일상을 편리하게\"LG전자 \"가전 넘어선 지속가능한 ...   \n",
            "1254  [앵커]GS건설, 순살자이라는 오명까지 얻고 그랬는데 영업정지 처분할 거라는 그런 ...   \n",
            "1255  'IFA 2023' 개막일 1일(현지시간) LG전자 프리 부스 투어 개최LG 지속가...   \n",
            "1256  스마트홈 기술 집약 소형모듈러주택에너지 관리 및 저장, 모니터링 집중IFA 2023...   \n",
            "1257  LG전자, 소평 모듈러 주택 '스마트 코티지' 공개에너지 효율 따지는 유럽 공략내년...   \n",
            "\n",
            "                                                 morphs  \n",
            "0     교통부 지하 주차장 모습 LH 아파트 비서관 아파트 지하 주차장 교통부 주차장 아파...  \n",
            "1     습니다 ㄴ데 다녀오 ㅂ니다 지하 주차장 에서 도색 터뜨리 ㅂ니다 거든요 게시판 뒤늦...  \n",
            "2     ㄴ다 단계 산지 가구 에서 가구 2021년 절반 가까이 현실 애쓰 부상 고령 다고 ...  \n",
            "3     윤석열 대통령 무더기 아파트 관련 아파트 지하 주차장 교통부 대통령 문제의식 ㄴ다 ...  \n",
            "4     빌딩 에코델타시티 지구 에서 시작 부동산 가구 공급 부동산 리서치 에서 가구 제외 ...  \n",
            "...                                                 ...  \n",
            "1253  일상 한자리 베를린 베를린 에서 독일인 전시관 방문 전시 photo newsis 베...  \n",
            "1254  영업정지 라는 평론가 가까이 ㄴ데 부동산 부동산 결정타 이야기 아파트 지하 주차장 ...  \n",
            "1255  개막일 시간 전격 베를린 전시관 데일리안 조인영 베를린 데일리안 조인영 에서 벗어나...  \n",
            "1256  집약 모니터링 야외 베를린 삼성 에서 에서 마련 기싸움 베를린 에서 전시장 관람객 ...  \n",
            "1257  스마트 내년 선뵈 이향 LG전자 경험 스마트 베를린 에서 에서 진천 에서 선보이 킬...  \n",
            "\n",
            "[1258 rows x 3 columns]\n"
          ]
        },
        {
          "output_type": "stream",
          "name": "stderr",
          "text": [
            "<ipython-input-6-f1104a5cfe53>:33: SettingWithCopyWarning: \n",
            "A value is trying to be set on a copy of a slice from a DataFrame.\n",
            "Try using .loc[row_indexer,col_indexer] = value instead\n",
            "\n",
            "See the caveats in the documentation: https://pandas.pydata.org/pandas-docs/stable/user_guide/indexing.html#returning-a-view-versus-a-copy\n",
            "  df2['morphs'] = df2['morphs'].apply(extract_words)\n"
          ]
        }
      ]
    },
    {
      "cell_type": "code",
      "source": [
        "# 불용어 처리\n",
        "df3 = df2[['title','morphs']]\n",
        "\n",
        "stop_word = ['에서','ㄴ다','ㅂ니다','있다','으로','밝히','GS','다는','기자',]\n",
        "\n",
        "def preprocess(text):\n",
        "  text = text.split()\n",
        "  text = [i for i in text if i not in stop_word]\n",
        "  return text\n",
        "\n",
        "def make_tokens(df):\n",
        "  df['tokens'] = ' '\n",
        "  for i, row in df.iterrows():\n",
        "    if i%100==0:\n",
        "      print(i,'/',len(df))\n",
        "    token = preprocess(df['morphs'][i])\n",
        "    df['tokens'][i] = ' '.join(token)\n",
        "  return df\n",
        "\n",
        "df4 = make_tokens(df3)\n",
        "print(df4)\n",
        "\n",
        "#불용어처리 확인\n",
        "from collections import Counter\n",
        "\n",
        "words_list = df4['tokens'].str.split()\n",
        "\n",
        "all_words = [word for words in words_list for word in words]\n",
        "\n",
        "word_counts = Counter(all_words)\n",
        "\n"
      ],
      "metadata": {
        "colab": {
          "base_uri": "https://localhost:8080/"
        },
        "id": "vR7bnpskv4iF",
        "outputId": "0100ae6f-bcfa-403d-f1c8-5c9c20691373"
      },
      "execution_count": 8,
      "outputs": [
        {
          "output_type": "stream",
          "name": "stdout",
          "text": [
            "0 / 1258\n",
            "100 / 1258\n",
            "200 / 1258\n",
            "300 / 1258\n",
            "400 / 1258\n",
            "500 / 1258\n",
            "600 / 1258\n",
            "700 / 1258\n",
            "800 / 1258\n",
            "900 / 1258\n",
            "1000 / 1258\n",
            "1100 / 1258\n",
            "1200 / 1258\n",
            "                                                  title  \\\n",
            "0                    [사설] 철근 빼먹기 LH아파트…국민안전 무너뜨릴 이권 카르텔   \n",
            "1                              \"도색하는 줄\" 분노…'보강 공사' 비용은?   \n",
            "2                                [데스크 칼럼] 부실공사 부르는 초고령화   \n",
            "3                          [현장기자] 발주만 했지 무관심 했다는 LH의 변명   \n",
            "4                     지방광역시 공급 올해 첫 수도권 추월.. 회복세 지방 확산?   \n",
            "...                                                 ...   \n",
            "1253            [IFA 2023] 가전박람회에 집이?…삼성·LG, 혁신제품 눈에 띄네   \n",
            "1254              2년 만에 반토막난 건설주…오히려 이때 사야 한다? [머니 클라스]   \n",
            "1255  [IFA 2023 현장+] 가전부터 주택까지 친환경·고효율E…LG전자 앞선 기술 '...   \n",
            "1256          [영상] 삼성전자가 만든 집에 실제로 가보니…“가격은 1억” [비즈360]   \n",
            "1257      [IFA 2023]\"3개월이면 뚝딱\"…LG전자가 만드는 '숲속의 작은집' 살펴보니   \n",
            "\n",
            "                                                 morphs  \\\n",
            "0     교통부 지하 주차장 모습 LH 아파트 비서관 아파트 지하 주차장 교통부 주차장 아파...   \n",
            "1     습니다 ㄴ데 다녀오 ㅂ니다 지하 주차장 에서 도색 터뜨리 ㅂ니다 거든요 게시판 뒤늦...   \n",
            "2     ㄴ다 단계 산지 가구 에서 가구 2021년 절반 가까이 현실 애쓰 부상 고령 다고 ...   \n",
            "3     윤석열 대통령 무더기 아파트 관련 아파트 지하 주차장 교통부 대통령 문제의식 ㄴ다 ...   \n",
            "4     빌딩 에코델타시티 지구 에서 시작 부동산 가구 공급 부동산 리서치 에서 가구 제외 ...   \n",
            "...                                                 ...   \n",
            "1253  일상 한자리 베를린 베를린 에서 독일인 전시관 방문 전시 photo newsis 베...   \n",
            "1254  영업정지 라는 평론가 가까이 ㄴ데 부동산 부동산 결정타 이야기 아파트 지하 주차장 ...   \n",
            "1255  개막일 시간 전격 베를린 전시관 데일리안 조인영 베를린 데일리안 조인영 에서 벗어나...   \n",
            "1256  집약 모니터링 야외 베를린 삼성 에서 에서 마련 기싸움 베를린 에서 전시장 관람객 ...   \n",
            "1257  스마트 내년 선뵈 이향 LG전자 경험 스마트 베를린 에서 에서 진천 에서 선보이 킬...   \n",
            "\n",
            "                                                 tokens  \n",
            "0     교통부 지하 주차장 모습 LH 아파트 비서관 아파트 지하 주차장 교통부 주차장 아파...  \n",
            "1     습니다 ㄴ데 다녀오 지하 주차장 도색 터뜨리 거든요 게시판 뒤늦 관련 설명회 지만 ...  \n",
            "2     단계 산지 가구 가구 2021년 절반 가까이 현실 애쓰 부상 고령 다고 주장 안전 ...  \n",
            "3     윤석열 대통령 무더기 아파트 관련 아파트 지하 주차장 교통부 대통령 문제의식 지하 ...  \n",
            "4     빌딩 에코델타시티 지구 시작 부동산 가구 공급 부동산 리서치 가구 제외 순위 가구 ...  \n",
            "...                                                 ...  \n",
            "1253  일상 한자리 베를린 베를린 독일인 전시관 방문 전시 photo newsis 베를린 ...  \n",
            "1254  영업정지 라는 평론가 가까이 ㄴ데 부동산 부동산 결정타 이야기 아파트 지하 주차장 ...  \n",
            "1255  개막일 시간 전격 베를린 전시관 데일리안 조인영 베를린 데일리안 조인영 벗어나 전시...  \n",
            "1256  집약 모니터링 야외 베를린 삼성 마련 기싸움 베를린 전시장 관람객 차량 주요 야외 ...  \n",
            "1257  스마트 내년 선뵈 이향 LG전자 경험 스마트 베를린 진천 선보이 킬로 태양광 브이 ...  \n",
            "\n",
            "[1258 rows x 3 columns]\n"
          ]
        }
      ]
    },
    {
      "cell_type": "code",
      "source": [
        "most_common_words = word_counts.most_common(50)\n",
        "print(\"가장 많이 나온 상위 50개 단어:\")\n",
        "for word, count in most_common_words:\n",
        "    print(f\"{word}: {count}\")"
      ],
      "metadata": {
        "colab": {
          "base_uri": "https://localhost:8080/"
        },
        "id": "EP0l3PL2xtEh",
        "outputId": "568b9359-1181-4de6-bf0f-1b261863a91f"
      },
      "execution_count": 9,
      "outputs": [
        {
          "output_type": "stream",
          "name": "stdout",
          "text": [
            "가장 많이 나온 상위 50개 단어:\n",
            "아파트: 2332\n",
            "영업정지: 1974\n",
            "개월: 1290\n",
            "지하: 1190\n",
            "주차장: 1175\n",
            "가구: 1030\n",
            "교통부: 905\n",
            "계획: 784\n",
            "붕괴: 668\n",
            "관련: 607\n",
            "GS건설: 607\n",
            "서울: 560\n",
            "개발: 494\n",
            "철근: 488\n",
            "점검: 423\n",
            "최근: 419\n",
            "부동산: 399\n",
            "기업: 390\n",
            "콘크리트: 383\n",
            "처분: 371\n",
            "재건축: 359\n",
            "시공사: 345\n",
            "국토부: 339\n",
            "오후: 324\n",
            "수주: 305\n",
            "행정: 296\n",
            "추가: 290\n",
            "마련: 288\n",
            "구역: 287\n",
            "조치: 273\n",
            "장관: 265\n",
            "부실시공: 255\n",
            "상승: 254\n",
            "공급: 251\n",
            "GS: 231\n",
            "절차: 228\n",
            "사고: 219\n",
            "해수담수화: 219\n",
            "스타트: 211\n",
            "다는: 210\n",
            "이루어지: 210\n",
            "아이파크: 209\n",
            "만원: 196\n",
            "기자: 195\n",
            "컨소시엄: 192\n",
            "어서: 190\n",
            "기존: 187\n",
            "사업: 187\n",
            "스카우트: 186\n",
            "안전: 182\n"
          ]
        }
      ]
    },
    {
      "cell_type": "code",
      "source": [
        "import pandas as pd\n",
        "# 예시 데이터프레임 생성\n",
        "data = {'date_time_column': ['2023.10.10 23:30:32', '2023.10.11 15:45:12', '2023.10.12 09:20:30']}\n",
        "df = pd.DataFrame(data)\n",
        "# 문자열을 datetime 형식으로 변환\n",
        "df['date_time_column'] = pd.to_datetime(df['date_time_column'], format='%Y.%m.%d %H:%M:%S')\n",
        "# 날짜만 추출\n",
        "df['date_only'] = df['date_time_column'].dt.date\n",
        "# 결과 출력\n",
        "print(df)"
      ],
      "metadata": {
        "colab": {
          "base_uri": "https://localhost:8080/"
        },
        "id": "tp-Mf-6fyNDy",
        "outputId": "15e5e9a5-7cbc-4f79-dd0b-c15ba1f1df8a"
      },
      "execution_count": 11,
      "outputs": [
        {
          "output_type": "stream",
          "name": "stdout",
          "text": [
            "     date_time_column   date_only\n",
            "0 2023-10-10 23:30:32  2023-10-10\n",
            "1 2023-10-11 15:45:12  2023-10-11\n",
            "2 2023-10-12 09:20:30  2023-10-12\n"
          ]
        }
      ]
    }
  ]
}