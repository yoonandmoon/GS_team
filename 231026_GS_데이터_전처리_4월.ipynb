{
  "nbformat": 4,
  "nbformat_minor": 0,
  "metadata": {
    "colab": {
      "provenance": [],
      "mount_file_id": "1GVGz3TFPSBG_6WI5s_jurxvkD6vROnjL",
      "authorship_tag": "ABX9TyMd6IHs8SlWoMQoCAvvSuHg",
      "include_colab_link": true
    },
    "kernelspec": {
      "name": "python3",
      "display_name": "Python 3"
    },
    "language_info": {
      "name": "python"
    }
  },
  "cells": [
    {
      "cell_type": "markdown",
      "metadata": {
        "id": "view-in-github",
        "colab_type": "text"
      },
      "source": [
        "<a href=\"https://colab.research.google.com/github/yoonandmoon/GS_team/blob/cleansing_yschoi/231026_GS_%EB%8D%B0%EC%9D%B4%ED%84%B0_%EC%A0%84%EC%B2%98%EB%A6%AC_4%EC%9B%94.ipynb\" target=\"_parent\"><img src=\"https://colab.research.google.com/assets/colab-badge.svg\" alt=\"Open In Colab\"/></a>"
      ]
    },
    {
      "cell_type": "markdown",
      "source": [
        "#4월_텍스트 전처리"
      ],
      "metadata": {
        "id": "qxhH0eA2t3Qn"
      }
    },
    {
      "cell_type": "markdown",
      "source": [
        "## 토큰화"
      ],
      "metadata": {
        "id": "yl_TN8wQt8Ga"
      }
    },
    {
      "cell_type": "code",
      "execution_count": null,
      "metadata": {
        "colab": {
          "base_uri": "https://localhost:8080/"
        },
        "id": "wUQlN4EQtv7b",
        "outputId": "73bc950c-3c9c-480d-e8f7-5bdb805ee3e8"
      },
      "outputs": [
        {
          "output_type": "stream",
          "name": "stdout",
          "text": [
            "Drive already mounted at /content/drive; to attempt to forcibly remount, call drive.mount(\"/content/drive\", force_remount=True).\n"
          ]
        }
      ],
      "source": [
        "from google.colab import drive\n",
        "drive.mount('/content/drive')"
      ]
    },
    {
      "cell_type": "code",
      "source": [
        "import pandas as pd\n",
        "df = pd.read_csv('/content/drive/MyDrive/Colab Notebooks/news_data04.csv')\n",
        "\n",
        "df2 = df[['title','date','content']]\n",
        "df2['content'] = df['content'].str.replace('\\n',' ').replace('\\t',' ').replace('\\r', ' ')"
      ],
      "metadata": {
        "colab": {
          "base_uri": "https://localhost:8080/"
        },
        "id": "vCj-q90E7YUZ",
        "outputId": "f6ea3a62-47af-41e9-9347-caaa70bd7bd5"
      },
      "execution_count": null,
      "outputs": [
        {
          "output_type": "stream",
          "name": "stderr",
          "text": [
            "<ipython-input-9-c0f95ef3e7a4>:5: SettingWithCopyWarning: \n",
            "A value is trying to be set on a copy of a slice from a DataFrame.\n",
            "Try using .loc[row_indexer,col_indexer] = value instead\n",
            "\n",
            "See the caveats in the documentation: https://pandas.pydata.org/pandas-docs/stable/user_guide/indexing.html#returning-a-view-versus-a-copy\n",
            "  df2['content'] = df['content'].str.replace('\\n',' ').replace('\\t',' ').replace('\\r', ' ')\n"
          ]
        }
      ]
    },
    {
      "cell_type": "code",
      "source": [
        "!pip install konlpy"
      ],
      "metadata": {
        "colab": {
          "base_uri": "https://localhost:8080/"
        },
        "id": "kzmWRmFhOGEQ",
        "outputId": "9c8c13f2-c281-4b05-9d43-82e2882d9729"
      },
      "execution_count": null,
      "outputs": [
        {
          "output_type": "stream",
          "name": "stdout",
          "text": [
            "Collecting konlpy\n",
            "  Downloading konlpy-0.6.0-py2.py3-none-any.whl (19.4 MB)\n",
            "\u001b[2K     \u001b[90m━━━━━━━━━━━━━━━━━━━━━━━━━━━━━━━━━━━━━━━━\u001b[0m \u001b[32m19.4/19.4 MB\u001b[0m \u001b[31m76.8 MB/s\u001b[0m eta \u001b[36m0:00:00\u001b[0m\n",
            "\u001b[?25hCollecting JPype1>=0.7.0 (from konlpy)\n",
            "  Downloading JPype1-1.4.1-cp310-cp310-manylinux_2_12_x86_64.manylinux2010_x86_64.whl (465 kB)\n",
            "\u001b[2K     \u001b[90m━━━━━━━━━━━━━━━━━━━━━━━━━━━━━━━━━━━━━━━━\u001b[0m \u001b[32m465.3/465.3 kB\u001b[0m \u001b[31m47.3 MB/s\u001b[0m eta \u001b[36m0:00:00\u001b[0m\n",
            "\u001b[?25hRequirement already satisfied: lxml>=4.1.0 in /usr/local/lib/python3.10/dist-packages (from konlpy) (4.9.3)\n",
            "Requirement already satisfied: numpy>=1.6 in /usr/local/lib/python3.10/dist-packages (from konlpy) (1.23.5)\n",
            "Requirement already satisfied: packaging in /usr/local/lib/python3.10/dist-packages (from JPype1>=0.7.0->konlpy) (23.2)\n",
            "Installing collected packages: JPype1, konlpy\n",
            "Successfully installed JPype1-1.4.1 konlpy-0.6.0\n"
          ]
        }
      ]
    },
    {
      "cell_type": "code",
      "source": [
        "pip install mecab-ko-msvc mecab-ko-dic-msvc"
      ],
      "metadata": {
        "colab": {
          "base_uri": "https://localhost:8080/"
        },
        "id": "mjIO5FceEjm5",
        "outputId": "47eefdb0-6632-443a-ca85-92e8aa48eebe"
      },
      "execution_count": null,
      "outputs": [
        {
          "output_type": "stream",
          "name": "stdout",
          "text": [
            "Requirement already satisfied: mecab-ko-msvc in /usr/local/lib/python3.10/dist-packages (0.999)\n",
            "Requirement already satisfied: mecab-ko-dic-msvc in /usr/local/lib/python3.10/dist-packages (0.999)\n"
          ]
        }
      ]
    },
    {
      "cell_type": "code",
      "source": [
        "import MeCab\n",
        "import pandas as pd\n",
        "import re\n",
        "\n",
        "# Mecab 인스턴스 생성\n",
        "m = MeCab.Tagger()\n",
        "\n",
        "# 'title' 열의 결과를 'titl' 열에 저장\n",
        "df2['titl'] = df2['title'].apply(lambda x: re.sub('[^가-힣ㄱ-ㅎㅏ-ㅣ\\\\s]', ' ', x))\n",
        "\n",
        "# 'content' 열의 결과를 'cont' 열에 저장\n",
        "df2['cont'] = df2['content'].apply(lambda x: re.sub('[^가-힣ㄱ-ㅎㅏ-ㅣ\\\\s]', ' ', x))\n",
        "\n",
        "def extract_words(text):\n",
        "    # 텍스트를 Mecab을 사용하여 토큰화합니다.\n",
        "    tokens = m.parse(text).split('\\n')\n",
        "\n",
        "    # 선택된 단어를 저장할 리스트\n",
        "    selected_words = []\n",
        "\n",
        "    for token in tokens:\n",
        "        if len(token) >= 2:\n",
        "            # 각 토큰을 탭(\\t)으로 분리하여 형태소와 품사 정보를 얻습니다.\n",
        "            parts = token.split('\\t')\n",
        "            if len(parts) == 2:\n",
        "                word, pos = parts\n",
        "                pos = pos.split(',')[0]  # 품사 정보에서 첫 번째 부분만 사용\n",
        "\n",
        "                # 선택 조건 (명사, 동사, 형용사)을 확인하고 선택된 단어 리스트에 추가\n",
        "                if len(word) >= 2 and pos in ['NNG', 'VV', 'VA']:\n",
        "                    selected_words.append(word)\n",
        "\n",
        "    # 선택된 단어를 공백으로 구분된 문자열로 반환합니다.\n",
        "    return ' '.join(selected_words)\n",
        "\n",
        "# 'title' 및 'content' 열에 대해 처리\n",
        "for i, row in df2.iterrows():\n",
        "    df2.at[i, 'titl'] = extract_words(row['title'])\n",
        "    df2.at[i, 'cont'] = extract_words(row['content'])\n",
        "\n",
        "df3 = df2[['date','titl','cont']]\n",
        "\n",
        "\n"
      ],
      "metadata": {
        "colab": {
          "base_uri": "https://localhost:8080/"
        },
        "id": "fDtQ5uhySL83",
        "outputId": "2c215cf2-0433-4983-9b0d-bf06bc736a8f"
      },
      "execution_count": null,
      "outputs": [
        {
          "output_type": "stream",
          "name": "stderr",
          "text": [
            "<ipython-input-11-cfa71b1e9142>:9: SettingWithCopyWarning: \n",
            "A value is trying to be set on a copy of a slice from a DataFrame.\n",
            "Try using .loc[row_indexer,col_indexer] = value instead\n",
            "\n",
            "See the caveats in the documentation: https://pandas.pydata.org/pandas-docs/stable/user_guide/indexing.html#returning-a-view-versus-a-copy\n",
            "  df2['titl'] = df2['title'].apply(lambda x: re.sub('[^가-힣ㄱ-ㅎㅏ-ㅣ\\\\s]', ' ', x))\n"
          ]
        }
      ]
    },
    {
      "cell_type": "code",
      "source": [
        "from collections import Counter\n",
        "\n",
        "words_list = df3['cont'].str.split()\n",
        "\n",
        "all_words = [word for words in words_list for word in words]\n",
        "\n",
        "word_counts = Counter(all_words)\n",
        "\n",
        "most_common_words = word_counts.most_common(100)\n",
        "print(\"가장 많이 나온 상위 50개 단어:\")\n",
        "for word, count in most_common_words:\n",
        "    print(f\"{word}: {count}\")\n",
        "\n",
        "\n",
        "stop_word = ['기자','지난해','올해','따르','기자']\n",
        "\n",
        "def preprocess(text):\n",
        "  text = text.split()\n",
        "  text = [i for i in text if i not in stop_word]\n",
        "  return text\n",
        "\n",
        "def preprocess(text):\n",
        "  text = text.split()\n",
        "  text = [i for i in text if i not in stop_word]\n",
        "  return text\n",
        "\n",
        "def make_tokens(df):\n",
        "  df['tokens'] = ' '\n",
        "  for i, row in df.iterrows():\n",
        "    if i%100==0:\n",
        "      print(i,'/',len(df))\n",
        "    token = preprocess(df['cont'][i])\n",
        "    df['tokens'][i] = ' '.join(token)\n",
        "  return df\n",
        "\n",
        "df4 = make_tokens(df3)\n",
        "\n"
      ],
      "metadata": {
        "colab": {
          "base_uri": "https://localhost:8080/"
        },
        "id": "JRx9GjETgzzO",
        "outputId": "a35fd358-d19b-4e29-b1c5-fc70c37bfdee"
      },
      "execution_count": 15,
      "outputs": [
        {
          "output_type": "stream",
          "name": "stdout",
          "text": [
            "가장 많이 나온 상위 50개 단어:\n",
            "건설: 2544\n",
            "분양: 1923\n",
            "가구: 1655\n",
            "주택: 1590\n",
            "사업: 1349\n",
            "아파트: 1051\n",
            "기술: 956\n",
            "개발: 914\n",
            "시장: 902\n",
            "자이: 869\n",
            "단지: 728\n",
            "청약: 725\n",
            "투자: 720\n",
            "예정: 698\n",
            "전용: 656\n",
            "지난해: 633\n",
            "부동산: 592\n",
            "건설사: 590\n",
            "공급: 585\n",
            "규모: 580\n",
            "대표: 564\n",
            "기업: 548\n",
            "분기: 542\n",
            "제공: 487\n",
            "일반: 480\n",
            "도시: 467\n",
            "서비스: 452\n",
            "대비: 438\n",
            "광명: 414\n",
            "국내: 414\n",
            "벤처: 412\n",
            "가능: 410\n",
            "그룹: 409\n",
            "지역: 408\n",
            "면적: 395\n",
            "올해: 392\n",
            "부문: 392\n",
            "브랜드: 387\n",
            "이상: 384\n",
            "연구: 384\n",
            "스타트업: 381\n",
            "영업: 380\n",
            "기자: 379\n",
            "시설: 379\n",
            "조합: 374\n",
            "진행: 373\n",
            "현장: 373\n",
            "순위: 365\n",
            "계획: 364\n",
            "따르: 360\n",
            "이익: 359\n",
            "모듈러: 358\n",
            "생산: 358\n",
            "경쟁: 351\n",
            "증가: 349\n",
            "구성: 347\n",
            "구역: 345\n",
            "기록: 344\n",
            "관계자: 340\n",
            "최근: 339\n",
            "공사: 335\n",
            "주행: 335\n",
            "설계: 334\n",
            "경기: 331\n",
            "단독: 331\n",
            "모듈: 327\n",
            "환경: 319\n",
            "계약: 317\n",
            "조성: 317\n",
            "자율: 316\n",
            "매출: 316\n",
            "유치: 314\n",
            "최고: 311\n",
            "평균: 310\n",
            "지상: 308\n",
            "산업: 306\n",
            "물량: 305\n",
            "적용: 304\n",
            "이번: 301\n",
            "기준: 297\n",
            "차량: 290\n",
            "타입: 287\n",
            "지하: 284\n",
            "업계: 282\n",
            "공원: 282\n",
            "전년: 281\n",
            "상황: 279\n",
            "세대: 276\n",
            "평가: 273\n",
            "마련: 271\n",
            "경우: 271\n",
            "주요: 271\n",
            "수준: 270\n",
            "기반: 269\n",
            "기간: 267\n",
            "가운데: 266\n",
            "수도: 266\n",
            "센터: 263\n",
            "가격: 257\n",
            "상무: 256\n",
            "0 / 608\n",
            "100 / 608\n",
            "200 / 608\n"
          ]
        },
        {
          "output_type": "stream",
          "name": "stderr",
          "text": [
            "<ipython-input-15-bb5daff8a141>:28: SettingWithCopyWarning: \n",
            "A value is trying to be set on a copy of a slice from a DataFrame.\n",
            "Try using .loc[row_indexer,col_indexer] = value instead\n",
            "\n",
            "See the caveats in the documentation: https://pandas.pydata.org/pandas-docs/stable/user_guide/indexing.html#returning-a-view-versus-a-copy\n",
            "  df['tokens'] = ' '\n",
            "<ipython-input-15-bb5daff8a141>:33: SettingWithCopyWarning: \n",
            "A value is trying to be set on a copy of a slice from a DataFrame\n",
            "\n",
            "See the caveats in the documentation: https://pandas.pydata.org/pandas-docs/stable/user_guide/indexing.html#returning-a-view-versus-a-copy\n",
            "  df['tokens'][i] = ' '.join(token)\n"
          ]
        },
        {
          "output_type": "stream",
          "name": "stdout",
          "text": [
            "300 / 608\n",
            "400 / 608\n",
            "500 / 608\n",
            "600 / 608\n"
          ]
        }
      ]
    },
    {
      "cell_type": "code",
      "source": [
        "# 이후 불용어 확인 후 반복 이때는 불용어 처리시 이 코드 사용\n",
        "#from collections import Counter\n",
        "\n",
        "#words_list = df4['tokens'].str.split()\n",
        "\n",
        "#all_words = [word for words in words_list for word in words]\n",
        "\n",
        "#word_counts = Counter(all_words)\n",
        "\n",
        "#most_common_words = word_counts.most_common(50)\n",
        "#print(\"가장 많이 나온 상위 50개 단어:\")\n",
        "#for word, count in most_common_words:\n",
        "    #print(f\"{word}: {count}\")\n",
        "\n",
        "#날짜만 추출\n",
        "df4['date'] = df4['date'].str.split(' ').str[0]\n",
        "print(df4)\n",
        "\n",
        "#csv파일 만들기\n",
        "df4.to_csv('4월_전처리.csv', index=False)"
      ],
      "metadata": {
        "colab": {
          "base_uri": "https://localhost:8080/"
        },
        "id": "7h9HNwSNyQ8s",
        "outputId": "a7110d6e-e90b-4864-a25d-676d6822e950"
      },
      "execution_count": null,
      "outputs": [
        {
          "output_type": "stream",
          "name": "stdout",
          "text": [
            "           date                            titl  \\\n",
            "0    2023-04-02                 집값 반등 투자 폭탄 우주인   \n",
            "1    2023-04-02                  규제 완화 분양 자이 계약   \n",
            "2    2023-04-02               규제 완화 분양 자이 예비 당첨   \n",
            "3    2023-04-02                     자이 시아 가구 분양   \n",
            "4    2023-04-02               전국 가구 청약 접수 청약 열기   \n",
            "..          ...                             ...   \n",
            "603  2023-04-30            차세대 모빌리티 통사 자율 주행 영토   \n",
            "604  2023-04-30                 재건축 상징 마아 파트 뚫리   \n",
            "605  2023-04-30  원자력 수출 용신 연구 건설 착수 동위 원소 국내 자급   \n",
            "606  2023-04-30  자율 주행 도로 곳곳 청소 도시 환경 관리 서비스 연구   \n",
            "607  2023-04-30                     역세 자이 타워 공급   \n",
            "\n",
            "                                                  cont  \\\n",
            "0    미래 증권 수석 연구원 인터뷰 최근 집값 일시 현상 매수 전셋값 거래량 추세 회복 ...   \n",
            "1    일반 공급 부적격자 물량 계약 완료 영등 포자 디그 투시도 사진 건설 보름 기자 정...   \n",
            "2    정부 부동산 대책 이후 처음 입주자 모집 공고 눈길 건설 영등 포자 디그 양평 구역...   \n",
            "3    분양 캘린더 부동산 제공 부동산 전국 단지 가구 일반 분양 가구 분양 시작 주요 분...   \n",
            "4    아파트 단지 모습 사진 기자 본격 분양 성수기 돌입 가운데 분양 시장 청약 열기 이...   \n",
            "..                                                 ...   \n",
            "603  자율 주행 청소차 개발 국토 과제 주관 지자체 적극 협업 통신 기반 자율 주행 실증...   \n",
            "604  아파트 소유주 동의 확보 상가 소유주 갈등 봉합 조합 창립 총회 마아 파트 재건축 ...   \n",
            "605  의료 산업 동위 원소 국내 생산 해외 수출 기대 기장군 방사선 과학 산업 건설 수출...   \n",
            "606  기술 바탕 실시간 관제 내년 기술 설계 개발 마무리 리빙 실증 환경미화원 사고 줄이...   \n",
            "607  건설 역세 양평 구역 도시 환경 정비 사업 구역 조성 영등 포자 타워 공급 영등 포...   \n",
            "\n",
            "                                                tokens  \n",
            "0    미래 증권 수석 연구원 인터뷰 최근 집값 일시 현상 매수 전셋값 거래량 추세 회복 ...  \n",
            "1    일반 공급 부적격자 물량 계약 완료 영등 포자 디그 투시도 사진 건설 보름 정부 대...  \n",
            "2    정부 부동산 대책 이후 처음 입주자 모집 공고 눈길 건설 영등 포자 디그 양평 구역...  \n",
            "3    분양 캘린더 부동산 제공 부동산 전국 단지 가구 일반 분양 가구 분양 시작 주요 분...  \n",
            "4    아파트 단지 모습 사진 본격 분양 성수기 돌입 가운데 분양 시장 청약 열기 이목 부...  \n",
            "..                                                 ...  \n",
            "603  자율 주행 청소차 개발 국토 과제 주관 지자체 적극 협업 통신 기반 자율 주행 실증...  \n",
            "604  아파트 소유주 동의 확보 상가 소유주 갈등 봉합 조합 창립 총회 마아 파트 재건축 ...  \n",
            "605  의료 산업 동위 원소 국내 생산 해외 수출 기대 기장군 방사선 과학 산업 건설 수출...  \n",
            "606  기술 바탕 실시간 관제 내년 기술 설계 개발 마무리 리빙 실증 환경미화원 사고 줄이...  \n",
            "607  건설 역세 양평 구역 도시 환경 정비 사업 구역 조성 영등 포자 타워 공급 영등 포...  \n",
            "\n",
            "[608 rows x 4 columns]\n"
          ]
        },
        {
          "output_type": "stream",
          "name": "stderr",
          "text": [
            "<ipython-input-14-d9f8161f1525>:16: SettingWithCopyWarning: \n",
            "A value is trying to be set on a copy of a slice from a DataFrame.\n",
            "Try using .loc[row_indexer,col_indexer] = value instead\n",
            "\n",
            "See the caveats in the documentation: https://pandas.pydata.org/pandas-docs/stable/user_guide/indexing.html#returning-a-view-versus-a-copy\n",
            "  df4['date'] = df4['date'].str.split(' ').str[0]\n"
          ]
        }
      ]
    }
  ]
}